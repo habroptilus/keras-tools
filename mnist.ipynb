{
 "cells": [
  {
   "cell_type": "code",
   "execution_count": 70,
   "metadata": {},
   "outputs": [],
   "source": [
    "import logging as lg\n",
    "from keras.layers import Input, Dense,Conv2D,Dropout,Flatten,MaxPooling2D\n",
    "from keras.models import load_model,Model\n",
    "from keras.callbacks import ModelCheckpoint,LambdaCallback\n",
    "import json\n",
    "from pathlib import Path\n",
    "from keras.utils import to_categorical\n",
    "from keras.datasets import mnist\n",
    "import matplotlib.pyplot as plt \n",
    "from copy import deepcopy\n",
    "import numpy as np\n",
    "%matplotlib inline"
   ]
  },
  {
   "cell_type": "code",
   "execution_count": 23,
   "metadata": {},
   "outputs": [
    {
     "name": "stderr",
     "output_type": "stream",
     "text": [
      "INFO:root:Verbose mode activated\n"
     ]
    }
   ],
   "source": [
    "verbose=True\n",
    "RESULT_DIR=Path(\"result\")\n",
    "if verbose:\n",
    "    lg.getLogger().setLevel(lg.INFO)\n",
    "    lg.info(\"Verbose mode activated\")"
   ]
  },
  {
   "cell_type": "code",
   "execution_count": 128,
   "metadata": {},
   "outputs": [],
   "source": [
    "class KerasNetInterface:\n",
    "    original_layers={}\n",
    "    \n",
    "    def __init__(self,trained_epochs,result_dir,batch_size,valid_rate,loss,optimizer):\n",
    "        self.result_dir=result_dir\n",
    "        self.batch_size=batch_size\n",
    "        self.valid_rate=valid_rate\n",
    "        self.loss=loss\n",
    "        self.optimizer=optimizer\n",
    "        model_path=result_dir/f\"{self.create_flag()}/model_{trained_epochs:02d}.h5\"\n",
    "        history_path=result_dir/f\"{self.create_flag()}/history_{trained_epochs:02d}.json\"\n",
    "        \n",
    "        model_path.parent.mkdir(exist_ok=True)\n",
    "        if model_path.exists() and history_path.exists():\n",
    "            self.trained_epochs=trained_epochs\n",
    "            lg.info(\"Loading the trained model...\")\n",
    "            self.model=self.load_model(model_path)\n",
    "            self.history=self.load_history(history_path)\n",
    "            lg.info(\"Loaded.\")\n",
    "        else:\n",
    "            lg.info(\"Not found such a trained model.\")\n",
    "            lg.info(\"Creating new model...\")\n",
    "            self.trained_epochs=0\n",
    "            self.history={}\n",
    "            self.model=self.construct()\n",
    "            lg.info(\"Finished.\")\n",
    "    \n",
    "    def load_model(self,model_path):\n",
    "        return load_model(str(model_path),custom_objects=self.original_layers)\n",
    "\n",
    "\n",
    "    def load_history(self,history_path):\n",
    "        with history_path.open(\"r\") as f:\n",
    "            history=json.load(f)\n",
    "        return history\n",
    "    \n",
    "    def fit(self, X, y, epochs):\n",
    "        if self.trained_epochs >= epochs:\n",
    "            lg.info(f\"This model has already been traiend up to {self.trained_epochs} epochs\")\n",
    "            return\n",
    "        callbacks=self.create_callbacks()\n",
    "        self.model.fit(X,y,initial_epoch=self.trained_epochs,epochs=epochs,\n",
    "                       batch_size=self.batch_size,callbacks=callbacks,validation_split=self.valid_rate)\n",
    "        return self.history\n",
    "   \n",
    "    def save_model(self,save_path):\n",
    "        self.model.save(str(save_path))\n",
    "        \n",
    "    def create_callbacks(self):\n",
    "        model_path=self.result_dir / (self.create_flag()+\"/model_{epoch:02d}.h5\")\n",
    "        mcp=ModelCheckpoint(str(model_path))\n",
    "        hcp=LambdaCallback(on_epoch_end=lambda epoch,logs: self.save_history(epoch,logs))\n",
    "        return [mcp,hcp]\n",
    "    \n",
    "    def save_history(self,epoch,logs):\n",
    "        epoch+=1\n",
    "        history_path=self.result_dir/ f\"{self.create_flag()}/history_{epoch:02d}.json\"\n",
    "        if len(self.history)==0:\n",
    "            self.history={k:[v] for k,v in logs.items()}\n",
    "        else:\n",
    "            for k,v in logs.items(): \n",
    "                self.history[k].append(v)\n",
    "        with history_path.open(\"w\") as f:\n",
    "            json.dump(self.history,f)\n",
    "        self.trained_epochs=epoch\n",
    "     \n",
    "    def plot_history(self,epoch):\n",
    "        history_path=self.result_dir/self.create_flag()/f\"history_{epoch:02d}.json\"\n",
    "        if history_path.exists():\n",
    "            with history_path.open(\"r\") as f:\n",
    "                history=json.load(f)\n",
    "            self.plot(history)\n",
    "        else:\n",
    "            raise Exception(f\"Not found {history_path}\")\n",
    "            \n",
    "    def evaluate(self,X,y):\n",
    "        scores=self.model.evaluate(X,y)\n",
    "        metrics_names=self.model.metrics_names\n",
    "        return {metrics_names[i] : scores[i] for i in range(len(scores))}\n",
    "    \n",
    "    def create_flag(self):\n",
    "        base_flag = f\"{self.batch_size}_{self.valid_rate}_{self.loss}_{self.optimizer}\"\n",
    "        return f\"{self.model_flag()}_{base_flag}\"\n",
    "    \n",
    "    def plot(self):\n",
    "        pass\n",
    "    \n",
    "    def predict(self):\n",
    "        pass\n",
    "            \n",
    "    def construct(self):\n",
    "        pass\n",
    "    \n",
    "    def model_flag(self):\n",
    "        pass"
   ]
  },
  {
   "cell_type": "code",
   "execution_count": 129,
   "metadata": {},
   "outputs": [],
   "source": [
    "class KerasClassifierInterface(KerasNetInterface):\n",
    "    metrics=[\"accuracy\"]\n",
    "    def predict(self,X):\n",
    "        return np.argmax(self.model.predict(X),axis=1)\n",
    "    \n",
    "    def predict_proba(self,X):\n",
    "        return self.model.predict(X)    \n",
    "    \n",
    "    def plot(self,history):\n",
    "        plt.plot(history['acc'])\n",
    "        plt.plot(history['val_acc'])\n",
    "        plt.title('model accuracy')\n",
    "        plt.xlabel('epoch')\n",
    "        plt.ylabel('accuracy')\n",
    "        plt.legend(['acc', 'val_acc'], loc='lower right')\n",
    "        plt.show()\n",
    "\n",
    "        plt.plot(history['loss'])\n",
    "        plt.plot(history['val_loss'])\n",
    "        plt.title('model loss')\n",
    "        plt.xlabel('epoch')\n",
    "        plt.ylabel('loss')\n",
    "        plt.legend(['loss', 'val_loss'], loc='lower right')\n",
    "        plt.show()\n",
    "\n",
    "\n",
    "class KerasRegressorInterface(KerasNetInterface):\n",
    "    metrics=[\"mse\"]\n",
    "    def predict(self,X):\n",
    "        return self.model.predict(X)"
   ]
  },
  {
   "cell_type": "code",
   "execution_count": 130,
   "metadata": {},
   "outputs": [],
   "source": [
    "class MLPClassifier(KerasClassifierInterface):\n",
    "    \n",
    "    def __init__(self,result_dir,input_dim,output_dim,trained_epochs=0, valid_rate=0.3, batch_size=256, \n",
    "                             med1_dim=300,med2_dim=100,activation=\"relu\",\n",
    "                             loss='categorical_crossentropy',optimizer='rmsprop'):\n",
    "       \n",
    "        self.input_dim=input_dim\n",
    "        self.med1_dim=med1_dim\n",
    "        self.med2_dim=med2_dim\n",
    "        self.output_dim=output_dim\n",
    "        self.activation=activation\n",
    "        super().__init__(trained_epochs,result_dir,batch_size,valid_rate ,loss,optimizer)\n",
    "        \n",
    "    def construct(self):\n",
    "        inputs = Input(shape=(self.input_dim,))\n",
    "        x = Dense(self.med1_dim, activation=self.activation)(inputs)\n",
    "        x = Dense(self.med2_dim, activation=self.activation)(x)\n",
    "        predictions = Dense(self.output_dim, activation='softmax')(x)\n",
    "        model = Model(inputs=inputs, outputs=predictions)\n",
    "        model.compile(optimizer=self.optimizer, loss=self.loss,metrics=self.metrics)\n",
    "        return model\n",
    "    \n",
    "    def model_flag(self):\n",
    "        return f\"mlpc_{self.input_dim}_{self.med1_dim}_{self.med2_dim}_{self.output_dim}_{self.activation}\""
   ]
  },
  {
   "cell_type": "code",
   "execution_count": 131,
   "metadata": {},
   "outputs": [],
   "source": [
    "class CNNClassifier(KerasClassifierInterface):\n",
    "    \n",
    "    def __init__(self,result_dir,input_height,input_width,input_channels,filters=64,kernel_size=(3,3),\n",
    "                 trained_epochs=0, valid_rate=0.3, batch_size=256, pool_size=(2,2),med_dim=128,output_dim=10,\n",
    "                 dropout_rate1= 0.25,dropout_rate2= 0.5,activation=\"relu\",\n",
    "                 loss='categorical_crossentropy',optimizer='rmsprop'):\n",
    "        \n",
    "        self.input_height=input_height\n",
    "        self.input_width=input_width\n",
    "        self.input_channels=input_channels\n",
    "        self.kernel_size=kernel_size\n",
    "        self.filters=filters\n",
    "        self.pool_size=pool_size\n",
    "        self.med_dim=med_dim\n",
    "        self.output_dim=output_dim\n",
    "        self.dropout_rate1=dropout_rate1\n",
    "        self.dropout_rate2=dropout_rate2\n",
    "        self.activation=activation\n",
    "        super().__init__(trained_epochs,result_dir,batch_size,valid_rate,loss,optimizer)\n",
    "        \n",
    "    def construct(self):\n",
    "        inputs = Input(shape=(self.input_height,self.input_width,self.input_channels))\n",
    "        x=Conv2D(self.filters,self.kernel_size,activation=self.activation)(inputs)\n",
    "        x=MaxPooling2D(pool_size=self.pool_size)(x)\n",
    "        x=Dropout(self.dropout_rate1)(x)\n",
    "        x=Flatten()(x)\n",
    "        x=Dense(self.med_dim, activation=self.activation)(x)\n",
    "        x=Dropout(self.dropout_rate2)(x)\n",
    "        predictions=Dense(self.output_dim, activation='softmax')(x)\n",
    "        model = Model(inputs=inputs, outputs=predictions)\n",
    "        model.compile(optimizer=self.optimizer, loss=self.loss,metrics=self.metrics)\n",
    "        return model\n",
    "    \n",
    "    def model_flag(self):\n",
    "        return f\"cnnc_{self.input_height}_{self.input_width}_{self.input_channels}_{self.filters}_{self.pool_size}_{self.med_dim}_{self.output_dim}_{self.dropout_rate1}_{self.dropout_rate2}_{self.activation}\""
   ]
  },
  {
   "cell_type": "code",
   "execution_count": 132,
   "metadata": {},
   "outputs": [],
   "source": [
    "def reshape_mnist_mlp(x,y):\n",
    "    sample_num=x.shape[0]\n",
    "    x=x.reshape(sample_num, -1)\n",
    "    x= x.astype('float32')\n",
    "    x /= 255\n",
    "    y = to_categorical(y, 10)\n",
    "    return x,y"
   ]
  },
  {
   "cell_type": "code",
   "execution_count": 133,
   "metadata": {},
   "outputs": [],
   "source": [
    "def reshape_mnist_cnn(x,y):\n",
    "    sample_num=x.shape[0]\n",
    "    x=x.reshape(sample_num, 28,28,1)\n",
    "    x= x.astype('float32')\n",
    "    x /= 255\n",
    "    y = to_categorical(y, 10)\n",
    "    return x,y"
   ]
  },
  {
   "cell_type": "code",
   "execution_count": 134,
   "metadata": {},
   "outputs": [],
   "source": [
    "(x_train, y_train), (x_test, y_test) = mnist.load_data()\n",
    "x_train_mlp,y_train_mlp=reshape_mnist_mlp(x_train,y_train)\n",
    "x_test_mlp,y_test_mlp=reshape_mnist_mlp(x_test,y_test)\n",
    "x_train_cnn,y_train_cnn=reshape_mnist_cnn(x_train,y_train)\n",
    "x_test_cnn,y_test_cnn=reshape_mnist_cnn(x_test,y_test)"
   ]
  },
  {
   "cell_type": "code",
   "execution_count": 135,
   "metadata": {},
   "outputs": [
    {
     "data": {
      "text/plain": [
       "((60000, 784), (60000, 28, 28, 1))"
      ]
     },
     "execution_count": 135,
     "metadata": {},
     "output_type": "execute_result"
    }
   ],
   "source": [
    "x_train_mlp.shape,x_train_cnn.shape"
   ]
  },
  {
   "cell_type": "code",
   "execution_count": 136,
   "metadata": {
    "scrolled": true
   },
   "outputs": [
    {
     "name": "stderr",
     "output_type": "stream",
     "text": [
      "INFO:root:Not found such a trained model.\n",
      "INFO:root:Creating new model...\n",
      "INFO:root:Finished.\n",
      "INFO:root:Not found such a trained model.\n",
      "INFO:root:Creating new model...\n",
      "INFO:root:Finished.\n"
     ]
    }
   ],
   "source": [
    "mlp=MLPClassifier(input_dim=784,output_dim=10,result_dir=RESULT_DIR)\n",
    "cnn=CNNClassifier(input_height=28,input_width=28,input_channels=1,result_dir=RESULT_DIR)"
   ]
  },
  {
   "cell_type": "code",
   "execution_count": 137,
   "metadata": {
    "scrolled": false
   },
   "outputs": [
    {
     "name": "stdout",
     "output_type": "stream",
     "text": [
      "Train on 42000 samples, validate on 18000 samples\n",
      "Epoch 1/10\n",
      "42000/42000 [==============================] - 1s 33us/step - loss: 0.3773 - acc: 0.8907 - val_loss: 0.5586 - val_acc: 0.8256\n",
      "Epoch 2/10\n",
      "42000/42000 [==============================] - 1s 21us/step - loss: 0.1539 - acc: 0.9540 - val_loss: 0.1761 - val_acc: 0.9483\n",
      "Epoch 3/10\n",
      "42000/42000 [==============================] - 1s 22us/step - loss: 0.0997 - acc: 0.9702 - val_loss: 0.1433 - val_acc: 0.9588\n",
      "Epoch 4/10\n",
      "42000/42000 [==============================] - 1s 21us/step - loss: 0.0720 - acc: 0.9784 - val_loss: 0.1424 - val_acc: 0.9592\n",
      "Epoch 5/10\n",
      "42000/42000 [==============================] - 1s 19us/step - loss: 0.0548 - acc: 0.9833 - val_loss: 0.1729 - val_acc: 0.9492\n",
      "Epoch 6/10\n",
      "42000/42000 [==============================] - 1s 20us/step - loss: 0.0398 - acc: 0.9875 - val_loss: 0.1263 - val_acc: 0.9644\n",
      "Epoch 7/10\n",
      "42000/42000 [==============================] - 1s 20us/step - loss: 0.0310 - acc: 0.9908 - val_loss: 0.1318 - val_acc: 0.9616\n",
      "Epoch 8/10\n",
      "42000/42000 [==============================] - 1s 21us/step - loss: 0.0232 - acc: 0.9927 - val_loss: 0.0993 - val_acc: 0.9727\n",
      "Epoch 9/10\n",
      "42000/42000 [==============================] - 1s 22us/step - loss: 0.0183 - acc: 0.9942 - val_loss: 0.0966 - val_acc: 0.9745\n",
      "Epoch 10/10\n",
      "42000/42000 [==============================] - 1s 21us/step - loss: 0.0138 - acc: 0.9957 - val_loss: 0.1233 - val_acc: 0.9668\n",
      "Train on 42000 samples, validate on 18000 samples\n",
      "Epoch 1/10\n",
      "42000/42000 [==============================] - 2s 51us/step - loss: 0.4421 - acc: 0.8642 - val_loss: 0.1585 - val_acc: 0.9515\n",
      "Epoch 2/10\n",
      "42000/42000 [==============================] - 2s 36us/step - loss: 0.1591 - acc: 0.9530 - val_loss: 0.0917 - val_acc: 0.9728\n",
      "Epoch 3/10\n",
      "42000/42000 [==============================] - 2s 36us/step - loss: 0.1090 - acc: 0.9672 - val_loss: 0.0868 - val_acc: 0.9735\n",
      "Epoch 4/10\n",
      "42000/42000 [==============================] - 2s 37us/step - loss: 0.0886 - acc: 0.9743 - val_loss: 0.0637 - val_acc: 0.9811\n",
      "Epoch 5/10\n",
      "42000/42000 [==============================] - 2s 37us/step - loss: 0.0742 - acc: 0.9780 - val_loss: 0.0606 - val_acc: 0.9826\n",
      "Epoch 6/10\n",
      "42000/42000 [==============================] - 2s 37us/step - loss: 0.0652 - acc: 0.9806 - val_loss: 0.0583 - val_acc: 0.9824\n",
      "Epoch 7/10\n",
      "42000/42000 [==============================] - 2s 36us/step - loss: 0.0590 - acc: 0.9814 - val_loss: 0.0594 - val_acc: 0.9837\n",
      "Epoch 8/10\n",
      "42000/42000 [==============================] - 2s 36us/step - loss: 0.0513 - acc: 0.9838 - val_loss: 0.0531 - val_acc: 0.9832\n",
      "Epoch 9/10\n",
      "42000/42000 [==============================] - 2s 37us/step - loss: 0.0475 - acc: 0.9860 - val_loss: 0.0528 - val_acc: 0.9849\n",
      "Epoch 10/10\n",
      "42000/42000 [==============================] - 2s 37us/step - loss: 0.0439 - acc: 0.9866 - val_loss: 0.0548 - val_acc: 0.9844\n"
     ]
    }
   ],
   "source": [
    "mlp_history=mlp.fit(x_train_mlp,y_train_mlp,epochs=10)\n",
    "cnn_history=cnn.fit(x_train_cnn,y_train_cnn,epochs=10)"
   ]
  },
  {
   "cell_type": "code",
   "execution_count": 138,
   "metadata": {
    "scrolled": true
   },
   "outputs": [
    {
     "data": {
      "image/png": "[encoded data removed]",
      "text/plain": [
       "<Figure size 432x288 with 1 Axes>"
      ]
     },
     "metadata": {},
     "output_type": "display_data"
    },
    {
     "data": {
      "image/png": "[encoded data removed]",
      "text/plain": [
       "<Figure size 432x288 with 1 Axes>"
      ]
     },
     "metadata": {},
     "output_type": "display_data"
    }
   ],
   "source": [
    "mlp.plot_history(epoch=10)"
   ]
  },
  {
   "cell_type": "code",
   "execution_count": 140,
   "metadata": {},
   "outputs": [
    {
     "data": {
      "image/png": "[encoded data removed]",
      "text/plain": [
       "<Figure size 432x288 with 1 Axes>"
      ]
     },
     "metadata": {},
     "output_type": "display_data"
    },
    {
     "data": {
      "image/png": "[encoded data removed]",
      "text/plain": [
       "<Figure size 432x288 with 1 Axes>"
      ]
     },
     "metadata": {},
     "output_type": "display_data"
    }
   ],
   "source": [
    "cnn.plot_history(epoch=10)"
   ]
  },
  {
   "cell_type": "code",
   "execution_count": 142,
   "metadata": {},
   "outputs": [
    {
     "name": "stdout",
     "output_type": "stream",
     "text": [
      "10000/10000 [==============================] - 0s 46us/step\n"
     ]
    },
    {
     "data": {
      "text/plain": [
       "{'loss': 0.10517429610061227, 'acc': 0.9705}"
      ]
     },
     "execution_count": 142,
     "metadata": {},
     "output_type": "execute_result"
    }
   ],
   "source": [
    "mlp.evaluate(x_test_mlp,y_test_mlp)"
   ]
  },
  {
   "cell_type": "code",
   "execution_count": 141,
   "metadata": {},
   "outputs": [
    {
     "name": "stdout",
     "output_type": "stream",
     "text": [
      "10000/10000 [==============================] - 1s 68us/step\n"
     ]
    },
    {
     "data": {
      "text/plain": [
       "{'loss': 0.04425095718199591, 'acc': 0.9852}"
      ]
     },
     "execution_count": 141,
     "metadata": {},
     "output_type": "execute_result"
    }
   ],
   "source": [
    "cnn.evaluate(x_test_cnn,y_test_cnn)"
   ]
  },
  {
   "cell_type": "code",
   "execution_count": null,
   "metadata": {},
   "outputs": [],
   "source": []
  },
  {
   "cell_type": "code",
   "execution_count": null,
   "metadata": {},
   "outputs": [],
   "source": []
  },
  {
   "cell_type": "code",
   "execution_count": null,
   "metadata": {},
   "outputs": [],
   "source": []
  }
 ],
 "metadata": {
  "kernelspec": {
   "display_name": "Python 3",
   "language": "python",
   "name": "python3"
  },
  "language_info": {
   "codemirror_mode": {
    "name": "ipython",
    "version": 3
   },
   "file_extension": ".py",
   "mimetype": "text/x-python",
   "name": "python",
   "nbconvert_exporter": "python",
   "pygments_lexer": "ipython3",
   "version": "3.6.5"
  }
 },
 "nbformat": 4,
 "nbformat_minor": 2
}
