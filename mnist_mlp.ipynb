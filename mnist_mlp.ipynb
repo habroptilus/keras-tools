{
 "cells": [
  {
   "cell_type": "code",
   "execution_count": 167,
   "metadata": {},
   "outputs": [],
   "source": [
    "import logging as lg\n",
    "from keras.layers import Input, Dense\n",
    "from keras.models import load_model,Model\n",
    "from keras.callbacks import ModelCheckpoint,LambdaCallback\n",
    "import json\n",
    "from pathlib import Path\n",
    "from keras.utils import to_categorical\n",
    "from keras.datasets import mnist\n",
    "import matplotlib.pyplot as plt \n",
    "from copy import deepcopy\n",
    "%matplotlib inline"
   ]
  },
  {
   "cell_type": "code",
   "execution_count": 168,
   "metadata": {},
   "outputs": [],
   "source": [
    "class KerasNetInterface:\n",
    "    \n",
    "    def __init__(self,trained_epochs,result_dir,batch_size,valid_rate):\n",
    "        self.result_dir=result_dir\n",
    "        self.batch_size=batch_size\n",
    "        self.valid_rate=valid_rate\n",
    "        model_path=result_dir/f\"{self.create_flag()}/model_{trained_epochs:02d}.h5\"\n",
    "        model_path.parent.mkdir(exist_ok=True)\n",
    "        if model_path.exists():\n",
    "            self.trained_epochs=trained_epochs\n",
    "            lg.info(\"Loading the trained model...\")\n",
    "            self.model=self.load_model(model_path)\n",
    "            lg.info(\"Loaded.\")\n",
    "        else:\n",
    "            lg.info(\"Not found such a trained model.\")\n",
    "            lg.info(\"Creating new model...\")\n",
    "            self.trained_epochs=0\n",
    "            self.model=self.construct()\n",
    "            lg.info(\"Finished.\")\n",
    "    \n",
    "    \n",
    "    def load_model(self,model_path):\n",
    "        return load_model(str(model_path))\n",
    "    \n",
    "    def fit(self, X, y, epochs):\n",
    "        if self.trained_epochs >= epochs:\n",
    "            lg.info(\"This model has already been traiend up to {trained_epochs}\")\n",
    "        callbacks=self.create_callbacks()\n",
    "        history=self.model.fit(X,y,initial_epoch=self.trained_epochs,epochs=epochs,\n",
    "                       batch_size=self.batch_size,callbacks=callbacks,validation_split=self.valid_rate)\n",
    "        return history.history\n",
    "    \n",
    "    def save_model(self,save_path):\n",
    "        self.model.save(str(save_path))\n",
    "        \n",
    "    def create_callbacks(self):\n",
    "        model_path=self.result_dir / (self.create_flag()+\"/model_{epoch:02d}.h5\")\n",
    "        mcp=ModelCheckpoint(str(model_path))\n",
    "        hcp=LambdaCallback(on_epoch_end=lambda epoch,logs: self.save_history(epoch,logs))\n",
    "        return [mcp,hcp]\n",
    "    \n",
    "    def save_history(self,epoch,logs):\n",
    "        epoch+=1\n",
    "        history_path=self.result_dir/ f\"{self.create_flag()}/history_{epoch:02d}.h5\"\n",
    "        history=deepcopy(self.model.history.history)\n",
    "        if len(history)==0:\n",
    "            history={k:[v] for k,v in logs.items()}\n",
    "        else:\n",
    "            for k,v in logs.items(): \n",
    "                history[k].append(v)\n",
    "        with history_path.open(\"w\") as f:\n",
    "            json.dump(history,f)\n",
    "        self.trained_epochs=epoch\n",
    "            \n",
    "    def create_flag(self):\n",
    "        pass\n",
    "        \n",
    "    def construct(self):\n",
    "        pass\n",
    "    \n",
    "    def predict(self):\n",
    "        pass\n",
    "    "
   ]
  },
  {
   "cell_type": "code",
   "execution_count": 169,
   "metadata": {},
   "outputs": [],
   "source": [
    "class KerasClassifierInterface(KerasNetInterface):\n",
    "    metrics=[\"accuracy\"]\n",
    "    def predict(self,X):\n",
    "        return np.argmax(self.model.predict(X),axis=1)\n",
    "    \n",
    "    def predict_proba(self,X):\n",
    "        return np.argmax(self.model.predict(X),axis=1)\n",
    "\n",
    "class KerasRegressorInterface(KerasNetInterface):\n",
    "    metrics=[\"mse\"]\n",
    "    def predict(self,X):\n",
    "        return self.model.predict(X)"
   ]
  },
  {
   "cell_type": "code",
   "execution_count": 170,
   "metadata": {},
   "outputs": [],
   "source": [
    "class MLPClassifier(KerasClassifierInterface):\n",
    "    \n",
    "    def __init__(self,trained_epochs=0, result_dir=Path(\"result\"),valid_rate=0.3, batch_size=256, input_dim=784,\n",
    "                             med1_dim=300,med2_dim=100,output_dim=10,activation=\"relu\",\n",
    "                             loss='categorical_crossentropy',optimizer='rmsprop'):\n",
    "        self.loss=loss\n",
    "        self.optimizer=optimizer\n",
    "        self.input_dim=input_dim\n",
    "        self.med1_dim=med1_dim\n",
    "        self.med2_dim=med2_dim\n",
    "        self.output_dim=output_dim\n",
    "        self.activation=activation\n",
    "        super().__init__(trained_epochs,result_dir,batch_size,valid_rate)\n",
    "        \n",
    "    def construct(self):\n",
    "        inputs = Input(shape=(self.input_dim,))\n",
    "        x = Dense(self.med1_dim, activation=self.activation)(inputs)\n",
    "        x = Dense(self.med2_dim, activation=self.activation)(x)\n",
    "        predictions = Dense(self.output_dim, activation='softmax')(x)\n",
    "        model = Model(inputs=inputs, outputs=predictions)\n",
    "        model.compile(optimizer=self.optimizer, loss=self.loss,metrics=self.metrics)\n",
    "        return model\n",
    "    \n",
    "    def create_flag(self):\n",
    "        return f\"mlpclassifier_{self.input_dim}_{self.med1_dim}_{self.med2_dim}_{self.output_dim}_{self.activation}_{self.batch_size}\"\n",
    "    "
   ]
  },
  {
   "cell_type": "code",
   "execution_count": 171,
   "metadata": {},
   "outputs": [],
   "source": [
    "def reshape_mnist(x,y):\n",
    "    sample_num=x.shape[0]\n",
    "    x=x.reshape(sample_num, -1)\n",
    "    x= x.astype('float32')\n",
    "    x /= 255\n",
    "    y = to_categorical(y, 10)\n",
    "    return x,y"
   ]
  },
  {
   "cell_type": "code",
   "execution_count": 172,
   "metadata": {},
   "outputs": [],
   "source": [
    "(x_train, y_train), (x_test, y_test) = mnist.load_data()\n",
    "x_train,y_train=reshape_mnist(x_train,y_train)\n",
    "x_test,y_test=reshape_mnist(x_test,y_test)"
   ]
  },
  {
   "cell_type": "code",
   "execution_count": 173,
   "metadata": {},
   "outputs": [
    {
     "data": {
      "text/plain": [
       "0"
      ]
     },
     "execution_count": 173,
     "metadata": {},
     "output_type": "execute_result"
    }
   ],
   "source": [
    "model=MLPClassifier()\n",
    "model.trained_epochs"
   ]
  },
  {
   "cell_type": "code",
   "execution_count": 174,
   "metadata": {
    "scrolled": true
   },
   "outputs": [
    {
     "name": "stdout",
     "output_type": "stream",
     "text": [
      "Train on 42000 samples, validate on 18000 samples\n",
      "Epoch 1/10\n",
      "42000/42000 [==============================] - 1s 35us/step - loss: 0.3816 - acc: 0.8890 - val_loss: 0.3432 - val_acc: 0.8897\n",
      "Epoch 2/10\n",
      "42000/42000 [==============================] - 1s 21us/step - loss: 0.1546 - acc: 0.9537 - val_loss: 0.1397 - val_acc: 0.9597\n",
      "Epoch 3/10\n",
      "42000/42000 [==============================] - 1s 21us/step - loss: 0.1019 - acc: 0.9695 - val_loss: 0.1218 - val_acc: 0.9628\n",
      "Epoch 4/10\n",
      "42000/42000 [==============================] - 1s 22us/step - loss: 0.0718 - acc: 0.9780 - val_loss: 0.1150 - val_acc: 0.9678\n",
      "Epoch 5/10\n",
      "42000/42000 [==============================] - 1s 22us/step - loss: 0.0535 - acc: 0.9839 - val_loss: 0.0988 - val_acc: 0.9707\n",
      "Epoch 6/10\n",
      "42000/42000 [==============================] - 1s 22us/step - loss: 0.0402 - acc: 0.9876 - val_loss: 0.1037 - val_acc: 0.9704\n",
      "Epoch 7/10\n",
      "42000/42000 [==============================] - 1s 22us/step - loss: 0.0313 - acc: 0.9903 - val_loss: 0.0929 - val_acc: 0.9729\n",
      "Epoch 8/10\n",
      "42000/42000 [==============================] - 1s 20us/step - loss: 0.0243 - acc: 0.9925 - val_loss: 0.1627 - val_acc: 0.9523\n",
      "Epoch 9/10\n",
      "42000/42000 [==============================] - 1s 21us/step - loss: 0.0180 - acc: 0.9949 - val_loss: 0.1021 - val_acc: 0.9736\n",
      "Epoch 10/10\n",
      "42000/42000 [==============================] - 1s 22us/step - loss: 0.0152 - acc: 0.9954 - val_loss: 0.1005 - val_acc: 0.9748\n"
     ]
    }
   ],
   "source": [
    "history=model.fit(x_train,y_train,epochs=10)"
   ]
  },
  {
   "cell_type": "code",
   "execution_count": 178,
   "metadata": {},
   "outputs": [],
   "source": [
    "def plot_history(history):\n",
    "    plt.plot(history['acc'])\n",
    "    plt.plot(history['val_acc'])\n",
    "    plt.title('model accuracy')\n",
    "    plt.xlabel('epoch')\n",
    "    plt.ylabel('accuracy')\n",
    "    plt.legend(['acc', 'val_acc'], loc='lower right')\n",
    "    plt.show()\n",
    "\n",
    "    plt.plot(history['loss'])\n",
    "    plt.plot(history['val_loss'])\n",
    "    plt.title('model loss')\n",
    "    plt.xlabel('epoch')\n",
    "    plt.ylabel('loss')\n",
    "    plt.legend(['loss', 'val_loss'], loc='lower right')\n",
    "    plt.show()"
   ]
  },
  {
   "cell_type": "code",
   "execution_count": 180,
   "metadata": {},
   "outputs": [
    {
     "data": {
      "image/png": "[encoded data removed]",
      "text/plain": [
       "<Figure size 432x288 with 1 Axes>"
      ]
     },
     "metadata": {},
     "output_type": "display_data"
    },
    {
     "data": {
      "image/png": "[encoded data removed]",
      "text/plain": [
       "<Figure size 432x288 with 1 Axes>"
      ]
     },
     "metadata": {},
     "output_type": "display_data"
    }
   ],
   "source": [
    "plot_history(history)"
   ]
  },
  {
   "cell_type": "code",
   "execution_count": null,
   "metadata": {},
   "outputs": [],
   "source": []
  }
 ],
 "metadata": {
  "kernelspec": {
   "display_name": "Python 3",
   "language": "python",
   "name": "python3"
  },
  "language_info": {
   "codemirror_mode": {
    "name": "ipython",
    "version": 3
   },
   "file_extension": ".py",
   "mimetype": "text/x-python",
   "name": "python",
   "nbconvert_exporter": "python",
   "pygments_lexer": "ipython3",
   "version": "3.6.5"
  }
 },
 "nbformat": 4,
 "nbformat_minor": 2
}
