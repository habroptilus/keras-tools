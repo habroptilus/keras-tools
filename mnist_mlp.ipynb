{
 "cells": [
  {
   "cell_type": "code",
   "execution_count": 34,
   "metadata": {},
   "outputs": [],
   "source": [
    "import logging as lg\n",
    "from keras.layers import Input, Dense\n",
    "from keras.models import load_model,Model\n",
    "from keras.callbacks import ModelCheckpoint,LambdaCallback\n",
    "import json\n",
    "from pathlib import Path\n",
    "from keras.utils import to_categorical\n",
    "from keras.datasets import mnist\n",
    "import matplotlib.pyplot as plt \n",
    "from copy import deepcopy\n",
    "import numpy as np\n",
    "%matplotlib inline"
   ]
  },
  {
   "cell_type": "code",
   "execution_count": 41,
   "metadata": {},
   "outputs": [
    {
     "name": "stderr",
     "output_type": "stream",
     "text": [
      "INFO:root:Verbose mode activated\n"
     ]
    }
   ],
   "source": [
    "verbose=True\n",
    "RESULT_DIR=Path(\"result\")\n",
    "if verbose:\n",
    "    lg.getLogger().setLevel(lg.INFO)\n",
    "    lg.info(\"Verbose mode activated\")"
   ]
  },
  {
   "cell_type": "code",
   "execution_count": 42,
   "metadata": {},
   "outputs": [],
   "source": [
    "class KerasNetInterface:\n",
    "    original_layers={}\n",
    "    \n",
    "    def __init__(self,trained_epochs,result_dir,batch_size,valid_rate):\n",
    "        self.result_dir=result_dir\n",
    "        self.batch_size=batch_size\n",
    "        self.valid_rate=valid_rate\n",
    "        model_path=result_dir/f\"{self.create_flag()}/model_{trained_epochs:02d}.h5\"\n",
    "        history_path=result_dir/f\"{self.create_flag()}/history_{trained_epochs:02d}.json\"\n",
    "        \n",
    "        model_path.parent.mkdir(exist_ok=True)\n",
    "        if model_path.exists() and history_path.exists():\n",
    "            self.trained_epochs=trained_epochs\n",
    "            lg.info(\"Loading the trained model...\")\n",
    "            self.model=self.load_model(model_path)\n",
    "            self.history=self.load_history(history_path)\n",
    "            lg.info(\"Loaded.\")\n",
    "        else:\n",
    "            lg.info(\"Not found such a trained model.\")\n",
    "            lg.info(\"Creating new model...\")\n",
    "            self.trained_epochs=0\n",
    "            self.history={}\n",
    "            self.model=self.construct()\n",
    "            lg.info(\"Finished.\")\n",
    "    \n",
    "    def load_model(self,model_path):\n",
    "        return load_model(str(model_path),custom_objects=self.original_layers)\n",
    "\n",
    "\n",
    "    def load_history(self,history_path):\n",
    "        with history_path.open(\"r\") as f:\n",
    "            history=json.load(f)\n",
    "        return history\n",
    "    \n",
    "    def fit(self, X, y, epochs):\n",
    "        if self.trained_epochs >= epochs:\n",
    "            lg.info(f\"This model has already been traiend up to {self.trained_epochs} epochs\")\n",
    "            return\n",
    "        callbacks=self.create_callbacks()\n",
    "        self.model.fit(X,y,initial_epoch=self.trained_epochs,epochs=epochs,\n",
    "                       batch_size=self.batch_size,callbacks=callbacks,validation_split=self.valid_rate)\n",
    "        return self.history\n",
    "   \n",
    "    def save_model(self,save_path):\n",
    "        self.model.save(str(save_path))\n",
    "        \n",
    "    def create_callbacks(self):\n",
    "        model_path=self.result_dir / (self.create_flag()+\"/model_{epoch:02d}.h5\")\n",
    "        mcp=ModelCheckpoint(str(model_path))\n",
    "        hcp=LambdaCallback(on_epoch_end=lambda epoch,logs: self.save_history(epoch,logs))\n",
    "        return [mcp,hcp]\n",
    "    \n",
    "    def save_history(self,epoch,logs):\n",
    "        epoch+=1\n",
    "        history_path=self.result_dir/ f\"{self.create_flag()}/history_{epoch:02d}.json\"\n",
    "        if len(self.history)==0:\n",
    "            self.history={k:[v] for k,v in logs.items()}\n",
    "        else:\n",
    "            for k,v in logs.items(): \n",
    "                self.history[k].append(v)\n",
    "        with history_path.open(\"w\") as f:\n",
    "            json.dump(self.history,f)\n",
    "        self.trained_epochs=epoch\n",
    "     \n",
    "    def plot_history(self,epoch):\n",
    "        history_path=model.result_dir/model.create_flag()/f\"history_{epoch:02d}.json\"\n",
    "        if history_path.exists():\n",
    "            with history_path.open(\"r\") as f:\n",
    "                history=json.load(f)\n",
    "            self.plot(history)\n",
    "        else:\n",
    "            raise Exception(f\"Not found {history_path}\")\n",
    "            \n",
    "    def evaluate(self,X,y):\n",
    "        scores=self.model.evaluate(X,y)\n",
    "        metrics_names=self.model.metrics_names\n",
    "        return {metrics_names[i] : scores[i] for i in range(len(scores))}\n",
    "    \n",
    "    def create_flag(self):\n",
    "        base_flag = f\"{self.batch_size}_{self.valid_rate}\"\n",
    "        return f\"{self.model_flag()}_{base_falg}\"\n",
    "    \n",
    "    def plot(self):\n",
    "        pass\n",
    "    \n",
    "    def predict(self):\n",
    "        pass\n",
    "            \n",
    "    def construct(self):\n",
    "        pass\n",
    "    \n",
    "    def model_flag(self):\n",
    "        pass"
   ]
  },
  {
   "cell_type": "code",
   "execution_count": 43,
   "metadata": {},
   "outputs": [],
   "source": [
    "class KerasClassifierInterface(KerasNetInterface):\n",
    "    metrics=[\"accuracy\"]\n",
    "    def predict(self,X):\n",
    "        return np.argmax(self.model.predict(X),axis=1)\n",
    "    \n",
    "    def predict_proba(self,X):\n",
    "        return self.model.predict(X)    \n",
    "    \n",
    "    def plot(self,history):\n",
    "        plt.plot(history['acc'])\n",
    "        plt.plot(history['val_acc'])\n",
    "        plt.title('model accuracy')\n",
    "        plt.xlabel('epoch')\n",
    "        plt.ylabel('accuracy')\n",
    "        plt.legend(['acc', 'val_acc'], loc='lower right')\n",
    "        plt.show()\n",
    "\n",
    "        plt.plot(history['loss'])\n",
    "        plt.plot(history['val_loss'])\n",
    "        plt.title('model loss')\n",
    "        plt.xlabel('epoch')\n",
    "        plt.ylabel('loss')\n",
    "        plt.legend(['loss', 'val_loss'], loc='lower right')\n",
    "        plt.show()\n",
    "\n",
    "\n",
    "class KerasRegressorInterface(KerasNetInterface):\n",
    "    metrics=[\"mse\"]\n",
    "    def predict(self,X):\n",
    "        return self.model.predict(X)"
   ]
  },
  {
   "cell_type": "code",
   "execution_count": 48,
   "metadata": {},
   "outputs": [],
   "source": [
    "class MLPClassifier(KerasClassifierInterface):\n",
    "    \n",
    "    def __init__(self,result_dir,trained_epochs=0, valid_rate=0.3, batch_size=256, input_dim=784,\n",
    "                             med1_dim=300,med2_dim=100,output_dim=10,activation=\"relu\",\n",
    "                             loss='categorical_crossentropy',optimizer='rmsprop'):\n",
    "        self.loss=loss\n",
    "        self.optimizer=optimizer\n",
    "        self.input_dim=input_dim\n",
    "        self.med1_dim=med1_dim\n",
    "        self.med2_dim=med2_dim\n",
    "        self.output_dim=output_dim\n",
    "        self.activation=activation\n",
    "        super().__init__(trained_epochs,result_dir,batch_size,valid_rate)\n",
    "        \n",
    "    def construct(self):\n",
    "        inputs = Input(shape=(self.input_dim,))\n",
    "        x = Dense(self.med1_dim, activation=self.activation)(inputs)\n",
    "        x = Dense(self.med2_dim, activation=self.activation)(x)\n",
    "        predictions = Dense(self.output_dim, activation='softmax')(x)\n",
    "        model = Model(inputs=inputs, outputs=predictions)\n",
    "        model.compile(optimizer=self.optimizer, loss=self.loss,metrics=self.metrics)\n",
    "        return model\n",
    "    \n",
    "    def create_flag(self):\n",
    "        return f\"mlpc_{self.input_dim}_{self.med1_dim}_{self.med2_dim}_{self.output_dim}_{self.activation}\""
   ]
  },
  {
   "cell_type": "code",
   "execution_count": 49,
   "metadata": {},
   "outputs": [],
   "source": [
    "def reshape_mnist(x,y):\n",
    "    sample_num=x.shape[0]\n",
    "    x=x.reshape(sample_num, -1)\n",
    "    x= x.astype('float32')\n",
    "    x /= 255\n",
    "    y = to_categorical(y, 10)\n",
    "    return x,y"
   ]
  },
  {
   "cell_type": "code",
   "execution_count": 50,
   "metadata": {},
   "outputs": [],
   "source": [
    "(x_train, y_train), (x_test, y_test) = mnist.load_data()\n",
    "x_train,y_train=reshape_mnist(x_train,y_train)\n",
    "x_test,y_test=reshape_mnist(x_test,y_test)"
   ]
  },
  {
   "cell_type": "code",
   "execution_count": 52,
   "metadata": {
    "scrolled": true
   },
   "outputs": [
    {
     "name": "stderr",
     "output_type": "stream",
     "text": [
      "INFO:root:Not found such a trained model.\n",
      "INFO:root:Creating new model...\n",
      "INFO:root:Finished.\n"
     ]
    }
   ],
   "source": [
    "model=MLPClassifier(result_dir=RESULT_DIR)"
   ]
  },
  {
   "cell_type": "code",
   "execution_count": 53,
   "metadata": {
    "scrolled": false
   },
   "outputs": [
    {
     "name": "stdout",
     "output_type": "stream",
     "text": [
      "Train on 42000 samples, validate on 18000 samples\n",
      "Epoch 1/10\n",
      "42000/42000 [==============================] - 1s 23us/step - loss: 0.3759 - acc: 0.8893 - val_loss: 0.4016 - val_acc: 0.8618\n",
      "Epoch 2/10\n",
      "42000/42000 [==============================] - 1s 17us/step - loss: 0.1534 - acc: 0.9545 - val_loss: 0.1634 - val_acc: 0.9496\n",
      "Epoch 3/10\n",
      "42000/42000 [==============================] - 1s 16us/step - loss: 0.1033 - acc: 0.9690 - val_loss: 0.1621 - val_acc: 0.9526\n",
      "Epoch 4/10\n",
      "42000/42000 [==============================] - 1s 17us/step - loss: 0.0732 - acc: 0.9775 - val_loss: 0.0993 - val_acc: 0.9697\n",
      "Epoch 5/10\n",
      "42000/42000 [==============================] - 1s 16us/step - loss: 0.0546 - acc: 0.9836 - val_loss: 0.1347 - val_acc: 0.9585\n",
      "Epoch 6/10\n",
      "42000/42000 [==============================] - 1s 16us/step - loss: 0.0413 - acc: 0.9874 - val_loss: 0.0959 - val_acc: 0.9712\n",
      "Epoch 7/10\n",
      "42000/42000 [==============================] - 1s 16us/step - loss: 0.0324 - acc: 0.9899 - val_loss: 0.0984 - val_acc: 0.9713\n",
      "Epoch 8/10\n",
      "42000/42000 [==============================] - 1s 16us/step - loss: 0.0244 - acc: 0.9923 - val_loss: 0.1012 - val_acc: 0.9730\n",
      "Epoch 9/10\n",
      "42000/42000 [==============================] - 1s 16us/step - loss: 0.0191 - acc: 0.9942 - val_loss: 0.0920 - val_acc: 0.9754\n",
      "Epoch 10/10\n",
      "42000/42000 [==============================] - 1s 16us/step - loss: 0.0151 - acc: 0.9958 - val_loss: 0.1010 - val_acc: 0.9743\n"
     ]
    }
   ],
   "source": [
    "history=model.fit(x_train,y_train,epochs=10)"
   ]
  },
  {
   "cell_type": "code",
   "execution_count": 54,
   "metadata": {},
   "outputs": [
    {
     "data": {
      "image/png": "[encoded data removed]",
      "text/plain": [
       "<Figure size 432x288 with 1 Axes>"
      ]
     },
     "metadata": {
      "needs_background": "light"
     },
     "output_type": "display_data"
    },
    {
     "data": {
      "image/png": "[encoded data removed]",
      "text/plain": [
       "<Figure size 432x288 with 1 Axes>"
      ]
     },
     "metadata": {
      "needs_background": "light"
     },
     "output_type": "display_data"
    }
   ],
   "source": [
    "model.plot_history(epoch=10)"
   ]
  },
  {
   "cell_type": "code",
   "execution_count": 56,
   "metadata": {},
   "outputs": [
    {
     "name": "stdout",
     "output_type": "stream",
     "text": [
      "10000/10000 [==============================] - 0s 36us/step\n"
     ]
    },
    {
     "data": {
      "text/plain": [
       "{'loss': 0.07906778378458694, 'acc': 0.9803}"
      ]
     },
     "execution_count": 56,
     "metadata": {},
     "output_type": "execute_result"
    }
   ],
   "source": [
    "model.evaluate(x_test,y_test)"
   ]
  },
  {
   "cell_type": "code",
   "execution_count": null,
   "metadata": {},
   "outputs": [],
   "source": []
  },
  {
   "cell_type": "code",
   "execution_count": null,
   "metadata": {},
   "outputs": [],
   "source": []
  }
 ],
 "metadata": {
  "kernelspec": {
   "display_name": "Python 3",
   "language": "python",
   "name": "python3"
  },
  "language_info": {
   "codemirror_mode": {
    "name": "ipython",
    "version": 3
   },
   "file_extension": ".py",
   "mimetype": "text/x-python",
   "name": "python",
   "nbconvert_exporter": "python",
   "pygments_lexer": "ipython3",
   "version": "3.6.7"
  }
 },
 "nbformat": 4,
 "nbformat_minor": 2
}
