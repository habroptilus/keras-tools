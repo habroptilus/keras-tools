{
 "cells": [
  {
   "cell_type": "code",
   "execution_count": 241,
   "metadata": {},
   "outputs": [],
   "source": [
    "import logging as lg\n",
    "from keras.layers import Input, Dense\n",
    "from keras.models import load_model,Model\n",
    "from keras.callbacks import ModelCheckpoint,LambdaCallback\n",
    "import json\n",
    "from pathlib import Path\n",
    "from keras.utils import to_categorical\n",
    "from keras.datasets import mnist\n",
    "import matplotlib.pyplot as plt \n",
    "from copy import deepcopy\n",
    "%matplotlib inline"
   ]
  },
  {
   "cell_type": "code",
   "execution_count": 266,
   "metadata": {},
   "outputs": [
    {
     "name": "stderr",
     "output_type": "stream",
     "text": [
      "INFO:root:Verbose mode activated\n"
     ]
    }
   ],
   "source": [
    "verbose=True\n",
    "if verbose:\n",
    "    lg.getLogger().setLevel(lg.INFO)\n",
    "    lg.info(\"Verbose mode activated\")"
   ]
  },
  {
   "cell_type": "code",
   "execution_count": 350,
   "metadata": {},
   "outputs": [],
   "source": [
    "class KerasNetInterface:\n",
    "    \n",
    "    def __init__(self,trained_epochs,result_dir,batch_size,valid_rate):\n",
    "        self.result_dir=result_dir\n",
    "        self.batch_size=batch_size\n",
    "        self.valid_rate=valid_rate\n",
    "        model_path=result_dir/f\"{self.create_flag()}/model_{trained_epochs:02d}.h5\"\n",
    "        history_path=result_dir/f\"{self.create_flag()}/history_{trained_epochs:02d}.json\"\n",
    "        \n",
    "        model_path.parent.mkdir(exist_ok=True)\n",
    "        if model_path.exists() and history_path.exists():\n",
    "            self.trained_epochs=trained_epochs\n",
    "            lg.info(\"Loading the trained model...\")\n",
    "            self.model=self.load_model(model_path)\n",
    "            self.history=self.load_history(history_path)\n",
    "            lg.info(\"Loaded.\")\n",
    "        else:\n",
    "            lg.info(\"Not found such a trained model.\")\n",
    "            lg.info(\"Creating new model...\")\n",
    "            self.trained_epochs=0\n",
    "            self.history={}\n",
    "            self.model=self.construct()\n",
    "            lg.info(\"Finished.\")\n",
    "    \n",
    "    \n",
    "    def load_model(self,model_path):\n",
    "        return load_model(str(model_path))\n",
    "\n",
    "    def load_history(self,history_path):\n",
    "        print(history_path)\n",
    "        with history_path.open(\"r\") as f:\n",
    "            history=json.load(f)\n",
    "        return history\n",
    "    \n",
    "    def fit(self, X, y, epochs):\n",
    "        if self.trained_epochs >= epochs:\n",
    "            lg.info(f\"This model has already been traiend up to {self.trained_epochs} epochs\")\n",
    "            return\n",
    "        callbacks=self.create_callbacks()\n",
    "        self.model.fit(X,y,initial_epoch=self.trained_epochs,epochs=epochs,\n",
    "                       batch_size=self.batch_size,callbacks=callbacks,validation_split=self.valid_rate)\n",
    "        return self.history\n",
    "   \n",
    "    def save_model(self,save_path):\n",
    "        self.model.save(str(save_path))\n",
    "        \n",
    "    def create_callbacks(self):\n",
    "        model_path=self.result_dir / (self.create_flag()+\"/model_{epoch:02d}.h5\")\n",
    "        mcp=ModelCheckpoint(str(model_path))\n",
    "        hcp=LambdaCallback(on_epoch_end=lambda epoch,logs: self.save_history(epoch,logs))\n",
    "        return [mcp,hcp]\n",
    "    \n",
    "    def save_history(self,epoch,logs):\n",
    "        epoch+=1\n",
    "        history_path=self.result_dir/ f\"{self.create_flag()}/history_{epoch:02d}.json\"\n",
    "        if len(self.history)==0:\n",
    "            self.history={k:[v] for k,v in logs.items()}\n",
    "        else:\n",
    "            for k,v in logs.items(): \n",
    "                self.history[k].append(v)\n",
    "        with history_path.open(\"w\") as f:\n",
    "            json.dump(self.history,f)\n",
    "        self.trained_epochs=epoch\n",
    "            \n",
    "    def create_flag(self):\n",
    "        pass\n",
    "        \n",
    "    def construct(self):\n",
    "        pass\n",
    "    \n",
    "    def predict(self):\n",
    "        pass\n",
    "    "
   ]
  },
  {
   "cell_type": "code",
   "execution_count": 351,
   "metadata": {},
   "outputs": [],
   "source": [
    "class KerasClassifierInterface(KerasNetInterface):\n",
    "    metrics=[\"accuracy\"]\n",
    "    def predict(self,X):\n",
    "        return np.argmax(self.model.predict(X),axis=1)\n",
    "    \n",
    "    def predict_proba(self,X):\n",
    "        return np.argmax(self.model.predict(X),axis=1)\n",
    "\n",
    "class KerasRegressorInterface(KerasNetInterface):\n",
    "    metrics=[\"mse\"]\n",
    "    def predict(self,X):\n",
    "        return self.model.predict(X)"
   ]
  },
  {
   "cell_type": "code",
   "execution_count": 352,
   "metadata": {},
   "outputs": [],
   "source": [
    "class MLPClassifier(KerasClassifierInterface):\n",
    "    \n",
    "    def __init__(self,trained_epochs=0, result_dir=Path(\"result\"),valid_rate=0.3, batch_size=256, input_dim=784,\n",
    "                             med1_dim=300,med2_dim=100,output_dim=10,activation=\"relu\",\n",
    "                             loss='categorical_crossentropy',optimizer='rmsprop'):\n",
    "        self.loss=loss\n",
    "        self.optimizer=optimizer\n",
    "        self.input_dim=input_dim\n",
    "        self.med1_dim=med1_dim\n",
    "        self.med2_dim=med2_dim\n",
    "        self.output_dim=output_dim\n",
    "        self.activation=activation\n",
    "        super().__init__(trained_epochs,result_dir,batch_size,valid_rate)\n",
    "        \n",
    "    def construct(self):\n",
    "        inputs = Input(shape=(self.input_dim,))\n",
    "        x = Dense(self.med1_dim, activation=self.activation)(inputs)\n",
    "        x = Dense(self.med2_dim, activation=self.activation)(x)\n",
    "        predictions = Dense(self.output_dim, activation='softmax')(x)\n",
    "        model = Model(inputs=inputs, outputs=predictions)\n",
    "        model.compile(optimizer=self.optimizer, loss=self.loss,metrics=self.metrics)\n",
    "        return model\n",
    "    \n",
    "    def create_flag(self):\n",
    "        return f\"mlpclassifier_{self.input_dim}_{self.med1_dim}_{self.med2_dim}_{self.output_dim}_{self.activation}_{self.batch_size}\"\n",
    "    "
   ]
  },
  {
   "cell_type": "code",
   "execution_count": 353,
   "metadata": {},
   "outputs": [],
   "source": [
    "def reshape_mnist(x,y):\n",
    "    sample_num=x.shape[0]\n",
    "    x=x.reshape(sample_num, -1)\n",
    "    x= x.astype('float32')\n",
    "    x /= 255\n",
    "    y = to_categorical(y, 10)\n",
    "    return x,y"
   ]
  },
  {
   "cell_type": "code",
   "execution_count": 354,
   "metadata": {},
   "outputs": [],
   "source": [
    "def plot_history(history):\n",
    "    plt.plot(history['acc'])\n",
    "    plt.plot(history['val_acc'])\n",
    "    plt.title('model accuracy')\n",
    "    plt.xlabel('epoch')\n",
    "    plt.ylabel('accuracy')\n",
    "    plt.legend(['acc', 'val_acc'], loc='lower right')\n",
    "    plt.show()\n",
    "\n",
    "    plt.plot(history['loss'])\n",
    "    plt.plot(history['val_loss'])\n",
    "    plt.title('model loss')\n",
    "    plt.xlabel('epoch')\n",
    "    plt.ylabel('loss')\n",
    "    plt.legend(['loss', 'val_loss'], loc='lower right')\n",
    "    plt.show()"
   ]
  },
  {
   "cell_type": "code",
   "execution_count": 355,
   "metadata": {},
   "outputs": [],
   "source": [
    "(x_train, y_train), (x_test, y_test) = mnist.load_data()\n",
    "x_train,y_train=reshape_mnist(x_train,y_train)\n",
    "x_test,y_test=reshape_mnist(x_test,y_test)"
   ]
  },
  {
   "cell_type": "code",
   "execution_count": 356,
   "metadata": {
    "scrolled": true
   },
   "outputs": [
    {
     "name": "stderr",
     "output_type": "stream",
     "text": [
      "INFO:root:Not found such a trained model.\n",
      "INFO:root:Creating new model...\n",
      "INFO:root:Finished.\n"
     ]
    }
   ],
   "source": [
    "model=MLPClassifier()"
   ]
  },
  {
   "cell_type": "code",
   "execution_count": 357,
   "metadata": {
    "scrolled": false
   },
   "outputs": [
    {
     "name": "stdout",
     "output_type": "stream",
     "text": [
      "Train on 42000 samples, validate on 18000 samples\n",
      "Epoch 1/10\n",
      "42000/42000 [==============================] - 2s 50us/step - loss: 0.3746 - acc: 0.8913 - val_loss: 0.1819 - val_acc: 0.9459\n",
      "Epoch 2/10\n",
      "42000/42000 [==============================] - 1s 23us/step - loss: 0.1503 - acc: 0.9547 - val_loss: 0.1279 - val_acc: 0.9597\n",
      "Epoch 3/10\n",
      "42000/42000 [==============================] - 1s 24us/step - loss: 0.1000 - acc: 0.9699 - val_loss: 0.1110 - val_acc: 0.9663\n",
      "Epoch 4/10\n",
      "42000/42000 [==============================] - 1s 24us/step - loss: 0.0707 - acc: 0.9783 - val_loss: 0.2372 - val_acc: 0.9266\n",
      "Epoch 5/10\n",
      "42000/42000 [==============================] - 1s 23us/step - loss: 0.0526 - acc: 0.9834 - val_loss: 0.0969 - val_acc: 0.9717\n",
      "Epoch 6/10\n",
      "42000/42000 [==============================] - 1s 24us/step - loss: 0.0404 - acc: 0.9876 - val_loss: 0.0964 - val_acc: 0.9721\n",
      "Epoch 7/10\n",
      "42000/42000 [==============================] - 1s 23us/step - loss: 0.0299 - acc: 0.9908 - val_loss: 0.1487 - val_acc: 0.9564\n",
      "Epoch 8/10\n",
      "42000/42000 [==============================] - 1s 24us/step - loss: 0.0236 - acc: 0.9929 - val_loss: 0.1233 - val_acc: 0.9655\n",
      "Epoch 9/10\n",
      "42000/42000 [==============================] - 1s 22us/step - loss: 0.0177 - acc: 0.9948 - val_loss: 0.1177 - val_acc: 0.9709\n",
      "Epoch 10/10\n",
      "42000/42000 [==============================] - 1s 21us/step - loss: 0.0143 - acc: 0.9954 - val_loss: 0.1350 - val_acc: 0.9683\n"
     ]
    }
   ],
   "source": [
    "history=model.fit(x_train,y_train,epochs=10)"
   ]
  },
  {
   "cell_type": "code",
   "execution_count": 358,
   "metadata": {},
   "outputs": [
    {
     "data": {
      "image/png": "[encoded data removed]",
      "text/plain": [
       "<Figure size 432x288 with 1 Axes>"
      ]
     },
     "metadata": {},
     "output_type": "display_data"
    },
    {
     "data": {
      "image/png": "[encoded data removed]",
      "text/plain": [
       "<Figure size 432x288 with 1 Axes>"
      ]
     },
     "metadata": {},
     "output_type": "display_data"
    }
   ],
   "source": [
    "plot_history(history)"
   ]
  }
 ],
 "metadata": {
  "kernelspec": {
   "display_name": "Python 3",
   "language": "python",
   "name": "python3"
  },
  "language_info": {
   "codemirror_mode": {
    "name": "ipython",
    "version": 3
   },
   "file_extension": ".py",
   "mimetype": "text/x-python",
   "name": "python",
   "nbconvert_exporter": "python",
   "pygments_lexer": "ipython3",
   "version": "3.6.5"
  }
 },
 "nbformat": 4,
 "nbformat_minor": 2
}
