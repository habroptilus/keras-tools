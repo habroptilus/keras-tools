{
 "cells": [
  {
   "cell_type": "code",
   "execution_count": 1,
   "metadata": {},
   "outputs": [
    {
     "name": "stderr",
     "output_type": "stream",
     "text": [
      "Using TensorFlow backend.\n"
     ]
    }
   ],
   "source": [
    "import logging as lg\n",
    "from pathlib import Path\n",
    "from keras.utils import to_categorical\n",
    "from keras.datasets import mnist\n",
    "import numpy as np\n",
    "%matplotlib inline"
   ]
  },
  {
   "cell_type": "code",
   "execution_count": 2,
   "metadata": {},
   "outputs": [
    {
     "name": "stderr",
     "output_type": "stream",
     "text": [
      "INFO:root:Verbose mode activated\n"
     ]
    }
   ],
   "source": [
    "verbose=True\n",
    "BATCH_SIZE=100\n",
    "VALID_RATE=0.3\n",
    "\n",
    "RESULT_DIR=Path(f\"result/mnist_{BATCH_SIZE}_{VALID_RATE}\")\n",
    "if verbose:\n",
    "    lg.getLogger().setLevel(lg.INFO)\n",
    "    lg.info(\"Verbose mode activated\")"
   ]
  },
  {
   "cell_type": "code",
   "execution_count": 3,
   "metadata": {},
   "outputs": [],
   "source": [
    "def reshape_mnist_mlp(x,y):\n",
    "    sample_num=x.shape[0]\n",
    "    x=x.reshape(sample_num, -1)\n",
    "    x= x.astype('float32')\n",
    "    x /= 255\n",
    "    y = to_categorical(y, 10)\n",
    "    return x,y"
   ]
  },
  {
   "cell_type": "code",
   "execution_count": 4,
   "metadata": {},
   "outputs": [],
   "source": [
    "from sklearn.model_selection import train_test_split\n",
    "(x_train_val, y_train_val), (x_test, y_test) = mnist.load_data()\n",
    "\n",
    "x_train_val,y_train_val=reshape_mnist_mlp(x_train_val,y_train_val)\n",
    "X_test,y_test=reshape_mnist_mlp(x_test,y_test)\n",
    "\n",
    "X_train, X_valid, y_train, y_valid = train_test_split(x_train_val, y_train_val, test_size=VALID_RATE)\n"
   ]
  },
  {
   "cell_type": "code",
   "execution_count": 5,
   "metadata": {},
   "outputs": [
    {
     "data": {
      "text/plain": [
       "((42000, 784), (42000, 10))"
      ]
     },
     "execution_count": 5,
     "metadata": {},
     "output_type": "execute_result"
    }
   ],
   "source": [
    "X_train.shape,y_train.shape"
   ]
  },
  {
   "cell_type": "code",
   "execution_count": 6,
   "metadata": {},
   "outputs": [],
   "source": [
    "from keras.layers import Input, Dense,Add\n",
    "from keras.models import Model\n",
    "from tools.models import KerasClassifierInterface\n",
    "\n",
    "class ResidualMLP(KerasClassifierInterface):\n",
    "\n",
    "    def __init__(self, result_dir, input_dim, output_dim, layers_num=3,trained_epochs=0,\n",
    "                 med_dim=300, activation=\"relu\",\n",
    "                 loss='categorical_crossentropy', optimizer='rmsprop'):\n",
    "\n",
    "        self.input_dim = input_dim\n",
    "        self.med_dim = med_dim\n",
    "        self.output_dim = output_dim\n",
    "        self.activation = activation\n",
    "        self.layers_num = layers_num\n",
    "        super().__init__(trained_epochs, result_dir, loss, optimizer)\n",
    "\n",
    "    def construct(self):\n",
    "        inputs = Input(shape=(self.input_dim,))\n",
    "        x = Dense(self.med_dim, activation=self.activation)(inputs)\n",
    "        \n",
    "        for _ in range(self.layers_num):\n",
    "            y = Dense(self.med_dim, activation=self.activation)(x)\n",
    "            x= Add()([x,y])\n",
    "            \n",
    "        predictions = Dense(self.output_dim, activation='softmax')(x)\n",
    "        model = Model(inputs=inputs, outputs=predictions)\n",
    "        model.compile(optimizer=self.optimizer,loss=self.loss, metrics=self.metrics)\n",
    "        return model\n",
    "\n",
    "    def create_flag(self):\n",
    "        return f\"resmlpc_{self.layers_num}_{self.input_dim}_{self.med_dim}__{self.output_dim}_{self.activation}\"\n"
   ]
  },
  {
   "cell_type": "code",
   "execution_count": 28,
   "metadata": {},
   "outputs": [
    {
     "name": "stderr",
     "output_type": "stream",
     "text": [
      "INFO:root:Not found such a trained model.\n",
      "INFO:root:Creating new model...\n",
      "INFO:root:Finished.\n"
     ]
    }
   ],
   "source": [
    "model=ResidualMLP(result_dir=RESULT_DIR,input_dim=784,output_dim=10,layers_num=10)"
   ]
  },
  {
   "cell_type": "code",
   "execution_count": 29,
   "metadata": {},
   "outputs": [
    {
     "name": "stdout",
     "output_type": "stream",
     "text": [
      "Train on 29399 samples, validate on 12601 samples\n",
      "Epoch 1/10\n",
      "29399/29399 [==============================] - 75s 3ms/step - loss: 14.5584 - acc: 0.0967 - val_loss: 14.5729 - val_acc: 0.0959\n",
      "Epoch 2/10\n",
      "29399/29399 [==============================] - 74s 3ms/step - loss: 14.5435 - acc: 0.0977 - val_loss: 14.5729 - val_acc: 0.0959\n",
      "Epoch 3/10\n",
      "29399/29399 [==============================] - 74s 3ms/step - loss: 14.5435 - acc: 0.0977 - val_loss: 14.5729 - val_acc: 0.0959\n",
      "Epoch 4/10\n",
      "29399/29399 [==============================] - 74s 3ms/step - loss: 14.5435 - acc: 0.0977 - val_loss: 14.5729 - val_acc: 0.0959\n",
      "Epoch 5/10\n",
      "29399/29399 [==============================] - 73s 2ms/step - loss: 14.5435 - acc: 0.0977 - val_loss: 14.5729 - val_acc: 0.0959\n",
      "Epoch 6/10\n",
      "29399/29399 [==============================] - 74s 3ms/step - loss: 14.5435 - acc: 0.0977 - val_loss: 14.5729 - val_acc: 0.0959\n",
      "Epoch 7/10\n",
      "29399/29399 [==============================] - 74s 3ms/step - loss: 14.5435 - acc: 0.0977 - val_loss: 14.5729 - val_acc: 0.0959\n",
      "Epoch 8/10\n",
      "29399/29399 [==============================] - 74s 3ms/step - loss: 14.5435 - acc: 0.0977 - val_loss: 14.5729 - val_acc: 0.0959\n",
      "Epoch 9/10\n",
      "29399/29399 [==============================] - 74s 3ms/step - loss: 14.5435 - acc: 0.0977 - val_loss: 14.5729 - val_acc: 0.0959\n",
      "Epoch 10/10\n",
      "29399/29399 [==============================] - 74s 3ms/step - loss: 14.5435 - acc: 0.0977 - val_loss: 14.5729 - val_acc: 0.0959\n"
     ]
    }
   ],
   "source": [
    "model.fit(X_train,y_train,epochs=10,batch_size=16,valid_rate=VALID_RATE)"
   ]
  },
  {
   "cell_type": "code",
   "execution_count": 19,
   "metadata": {},
   "outputs": [
    {
     "data": {
      "image/png": "[encoded data removed]",
      "text/plain": [
       "<Figure size 432x288 with 1 Axes>"
      ]
     },
     "metadata": {
      "needs_background": "light"
     },
     "output_type": "display_data"
    },
    {
     "data": {
      "image/png": "[encoded data removed]",
      "text/plain": [
       "<Figure size 432x288 with 1 Axes>"
      ]
     },
     "metadata": {
      "needs_background": "light"
     },
     "output_type": "display_data"
    }
   ],
   "source": [
    "model.plot_history()"
   ]
  },
  {
   "cell_type": "code",
   "execution_count": 20,
   "metadata": {},
   "outputs": [],
   "source": [
    "from keras.layers import Input, Dense,Add\n",
    "from keras.models import Model\n",
    "from tools.models import KerasClassifierInterface\n",
    "\n",
    "class NormalMLP(KerasClassifierInterface):\n",
    "\n",
    "    def __init__(self, result_dir, input_dim, output_dim, layers_num=3,trained_epochs=0,\n",
    "                 med_dim=300, activation=\"relu\",\n",
    "                 loss='categorical_crossentropy', optimizer='rmsprop'):\n",
    "\n",
    "        self.input_dim = input_dim\n",
    "        self.med_dim = med_dim\n",
    "        self.output_dim = output_dim\n",
    "        self.activation = activation\n",
    "        self.layers_num = layers_num\n",
    "        super().__init__(trained_epochs, result_dir, loss, optimizer)\n",
    "\n",
    "    def construct(self):\n",
    "        inputs = Input(shape=(self.input_dim,))\n",
    "        x = Dense(self.med_dim, activation=self.activation)(inputs)\n",
    "        \n",
    "        for _ in range(self.layers_num):\n",
    "            x = Dense(self.med_dim, activation=self.activation)(x)\n",
    "            \n",
    "        predictions = Dense(self.output_dim, activation='softmax')(x)\n",
    "        model = Model(inputs=inputs, outputs=predictions)\n",
    "        model.compile(optimizer=self.optimizer,loss=self.loss, metrics=self.metrics)\n",
    "        return model\n",
    "\n",
    "    def create_flag(self):\n",
    "        return f\"normalmlpc_{self.layers_num}_{self.input_dim}_{self.med_dim}__{self.output_dim}_{self.activation}\"\n"
   ]
  },
  {
   "cell_type": "code",
   "execution_count": 21,
   "metadata": {},
   "outputs": [
    {
     "name": "stderr",
     "output_type": "stream",
     "text": [
      "INFO:root:Not found such a trained model.\n",
      "INFO:root:Creating new model...\n",
      "INFO:root:Finished.\n"
     ]
    }
   ],
   "source": [
    "model=NormalMLP(result_dir=RESULT_DIR,input_dim=784,output_dim=10,layers_num=10,trained_epochs=10)"
   ]
  },
  {
   "cell_type": "code",
   "execution_count": 22,
   "metadata": {},
   "outputs": [
    {
     "name": "stdout",
     "output_type": "stream",
     "text": [
      "Train on 29399 samples, validate on 12601 samples\n",
      "Epoch 1/10\n",
      "29399/29399 [==============================] - 13s 438us/step - loss: 0.7421 - acc: 0.7553 - val_loss: 0.5050 - val_acc: 0.8103\n",
      "Epoch 2/10\n",
      "29399/29399 [==============================] - 12s 407us/step - loss: 0.2453 - acc: 0.9419 - val_loss: 0.2272 - val_acc: 0.9471\n",
      "Epoch 3/10\n",
      "29399/29399 [==============================] - 12s 407us/step - loss: 0.1734 - acc: 0.9580 - val_loss: 0.2401 - val_acc: 0.9389\n",
      "Epoch 4/10\n",
      "29399/29399 [==============================] - 12s 413us/step - loss: 0.1334 - acc: 0.9687 - val_loss: 0.3345 - val_acc: 0.9388\n",
      "Epoch 5/10\n",
      "29399/29399 [==============================] - 12s 406us/step - loss: 0.1197 - acc: 0.9719 - val_loss: 0.1578 - val_acc: 0.9685\n",
      "Epoch 6/10\n",
      "29399/29399 [==============================] - 12s 407us/step - loss: 0.1032 - acc: 0.9780 - val_loss: 0.1509 - val_acc: 0.9684\n",
      "Epoch 7/10\n",
      "29399/29399 [==============================] - 12s 411us/step - loss: 0.0940 - acc: 0.9790 - val_loss: 0.2100 - val_acc: 0.9669\n",
      "Epoch 8/10\n",
      "29399/29399 [==============================] - 12s 411us/step - loss: 0.0908 - acc: 0.9807 - val_loss: 0.2085 - val_acc: 0.9683\n",
      "Epoch 9/10\n",
      "29399/29399 [==============================] - 12s 401us/step - loss: 0.1018 - acc: 0.9813 - val_loss: 0.1950 - val_acc: 0.9731\n",
      "Epoch 10/10\n",
      "29399/29399 [==============================] - 12s 421us/step - loss: 0.0899 - acc: 0.9845 - val_loss: 0.2180 - val_acc: 0.9710\n"
     ]
    }
   ],
   "source": [
    "model.fit(X_train,y_train,epochs=10,batch_size=BATCH_SIZE,valid_rate=VALID_RATE)"
   ]
  },
  {
   "cell_type": "code",
   "execution_count": 23,
   "metadata": {},
   "outputs": [
    {
     "data": {
      "image/png": "[encoded data removed]",
      "text/plain": [
       "<Figure size 432x288 with 1 Axes>"
      ]
     },
     "metadata": {
      "needs_background": "light"
     },
     "output_type": "display_data"
    },
    {
     "data": {
      "image/png": "[encoded data removed]",
      "text/plain": [
       "<Figure size 432x288 with 1 Axes>"
      ]
     },
     "metadata": {
      "needs_background": "light"
     },
     "output_type": "display_data"
    }
   ],
   "source": [
    "model.plot_history()"
   ]
  },
  {
   "cell_type": "code",
   "execution_count": null,
   "metadata": {},
   "outputs": [],
   "source": []
  },
  {
   "cell_type": "code",
   "execution_count": null,
   "metadata": {},
   "outputs": [],
   "source": []
  }
 ],
 "metadata": {
  "kernelspec": {
   "display_name": "Python 3",
   "language": "python",
   "name": "python3"
  },
  "language_info": {
   "codemirror_mode": {
    "name": "ipython",
    "version": 3
   },
   "file_extension": ".py",
   "mimetype": "text/x-python",
   "name": "python",
   "nbconvert_exporter": "python",
   "pygments_lexer": "ipython3",
   "version": "3.6.7"
  }
 },
 "nbformat": 4,
 "nbformat_minor": 2
}
