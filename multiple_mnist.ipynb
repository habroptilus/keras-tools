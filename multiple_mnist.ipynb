{
 "cells": [
  {
   "cell_type": "code",
   "execution_count": 1,
   "metadata": {},
   "outputs": [
    {
     "name": "stderr",
     "output_type": "stream",
     "text": [
      "Using TensorFlow backend.\n"
     ]
    }
   ],
   "source": [
    "import logging as lg\n",
    "from pathlib import Path\n",
    "from keras.utils import to_categorical\n",
    "from keras.datasets import mnist\n",
    "import numpy as np\n",
    "%matplotlib inline"
   ]
  },
  {
   "cell_type": "code",
   "execution_count": 2,
   "metadata": {},
   "outputs": [
    {
     "name": "stderr",
     "output_type": "stream",
     "text": [
      "INFO:root:Verbose mode activated\n"
     ]
    }
   ],
   "source": [
    "verbose=True\n",
    "BATCH_SIZE=100\n",
    "VALID_RATE=0.3\n",
    "\n",
    "RESULT_DIR=Path(f\"result/multi_mnist_{BATCH_SIZE}_{VALID_RATE}\")\n",
    "if verbose:\n",
    "    lg.getLogger().setLevel(lg.INFO)\n",
    "    lg.info(\"Verbose mode activated\")"
   ]
  },
  {
   "cell_type": "code",
   "execution_count": 3,
   "metadata": {},
   "outputs": [],
   "source": [
    "from tools.models import KerasRegressorInterface"
   ]
  },
  {
   "cell_type": "code",
   "execution_count": 15,
   "metadata": {},
   "outputs": [],
   "source": [
    "from sklearn.model_selection import train_test_split\n",
    "(x_train_val, y_train_val), (X_test, y_test) = mnist.load_data()\n",
    "X_train, X_valid, y_train, y_valid = train_test_split(x_train_val, y_train_val, test_size=VALID_RATE)"
   ]
  },
  {
   "cell_type": "code",
   "execution_count": 29,
   "metadata": {},
   "outputs": [],
   "source": [
    "from keras.preprocessing.image import ImageDataGenerator\n",
    "class MultipleMnistGenerator:\n",
    "    def __init__(self):\n",
    "        self.img_gen= ImageDataGenerator(rescale=1./255)\n",
    "         \n",
    "    def flow(self,images,labels,batch_size=1):\n",
    "        images=self.preprocess(images)\n",
    "        img_g1=self.img_gen.flow(images,labels,batch_size=batch_size)\n",
    "        img_g2=self.img_gen.flow(images,labels,batch_size=batch_size)\n",
    "        while True:\n",
    "            img1,label1=next(img_g1)\n",
    "            img2,label2=next(img_g2)\n",
    "            label=label1*label2         \n",
    "            yield [img1,img2],label\n",
    "            \n",
    "    def preprocess(self,images):\n",
    "        images=images.reshape(images.shape[0], 28,28,1)\n",
    "        return images"
   ]
  },
  {
   "cell_type": "code",
   "execution_count": 26,
   "metadata": {},
   "outputs": [],
   "source": [
    "class MyGenerator:\n",
    "    \"\"\"今回は使わない.\"\"\"\n",
    "    def __init__(self):\n",
    "        pass\n",
    "    \n",
    "    def flow(self,x,batch_size):\n",
    "        i=0\n",
    "        while True:\n",
    "            if (i+1)*batch_size<=x.shape[0]:\n",
    "                yield x[i * (batch_size):(i+1)*batch_size]\n",
    "                i+=1\n",
    "            else:\n",
    "                yield x[i * (batch_size):]\n",
    "                i=0"
   ]
  },
  {
   "cell_type": "code",
   "execution_count": 30,
   "metadata": {},
   "outputs": [],
   "source": [
    "gen=MultipleMnistGenerator()\n",
    "g_train=gen.flow(X_train,y_train,BATCH_SIZE)\n",
    "g_valid=gen.flow(X_valid,y_valid)\n",
    "g_test=gen.flow(X_test,y_test)"
   ]
  },
  {
   "cell_type": "code",
   "execution_count": 31,
   "metadata": {},
   "outputs": [
    {
     "data": {
      "text/plain": [
       "((100, 28, 28, 1), (100,))"
      ]
     },
     "execution_count": 31,
     "metadata": {},
     "output_type": "execute_result"
    }
   ],
   "source": [
    "inputs,labels=next(g_train)\n",
    "inputs[0].shape,labels.shape"
   ]
  },
  {
   "cell_type": "code",
   "execution_count": null,
   "metadata": {},
   "outputs": [],
   "source": []
  }
 ],
 "metadata": {
  "kernelspec": {
   "display_name": "Python 3",
   "language": "python",
   "name": "python3"
  },
  "language_info": {
   "codemirror_mode": {
    "name": "ipython",
    "version": 3
   },
   "file_extension": ".py",
   "mimetype": "text/x-python",
   "name": "python",
   "nbconvert_exporter": "python",
   "pygments_lexer": "ipython3",
   "version": "3.6.7"
  }
 },
 "nbformat": 4,
 "nbformat_minor": 2
}
