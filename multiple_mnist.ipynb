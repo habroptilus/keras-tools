{
 "cells": [
  {
   "cell_type": "code",
   "execution_count": 3,
   "metadata": {},
   "outputs": [
    {
     "name": "stderr",
     "output_type": "stream",
     "text": [
      "Using TensorFlow backend.\n"
     ]
    }
   ],
   "source": [
    "import logging as lg\n",
    "from pathlib import Path\n",
    "from keras.utils import to_categorical\n",
    "from keras.datasets import mnist\n",
    "import numpy as np\n",
    "%matplotlib inline"
   ]
  },
  {
   "cell_type": "code",
   "execution_count": 4,
   "metadata": {},
   "outputs": [
    {
     "name": "stderr",
     "output_type": "stream",
     "text": [
      "INFO:root:Verbose mode activated\n"
     ]
    }
   ],
   "source": [
    "verbose=True\n",
    "BATCH_SIZE=100\n",
    "VALID_RATE=0.1\n",
    "\n",
    "RESULT_DIR=Path(f\"result/multi_mnist_{BATCH_SIZE}_{VALID_RATE}\")\n",
    "if verbose:\n",
    "    lg.getLogger().setLevel(lg.INFO)\n",
    "    lg.info(\"Verbose mode activated\")"
   ]
  },
  {
   "cell_type": "code",
   "execution_count": 5,
   "metadata": {},
   "outputs": [],
   "source": [
    "from tools.models import KerasRegressorInterface"
   ]
  },
  {
   "cell_type": "code",
   "execution_count": 6,
   "metadata": {},
   "outputs": [],
   "source": [
    "from sklearn.model_selection import train_test_split\n",
    "(x_train_val, y_train_val), (X_test, y_test) = mnist.load_data()\n",
    "X_train, X_valid, y_train, y_valid = train_test_split(x_train_val, y_train_val, test_size=VALID_RATE)"
   ]
  },
  {
   "cell_type": "code",
   "execution_count": 7,
   "metadata": {},
   "outputs": [],
   "source": [
    "from keras.preprocessing.image import ImageDataGenerator\n",
    "class MultipleMnistGenerator:\n",
    "    def __init__(self):\n",
    "        self.img_gen= ImageDataGenerator(rescale=1./255)\n",
    "         \n",
    "    def flow(self,images,labels,batch_size=1):\n",
    "        images=self.preprocess(images)\n",
    "        img_g1=self.img_gen.flow(images,labels,batch_size=batch_size)\n",
    "        img_g2=self.img_gen.flow(images,labels,batch_size=batch_size)\n",
    "        while True:\n",
    "            img1,label1=next(img_g1)\n",
    "            img2,label2=next(img_g2)\n",
    "            label=label1*label2         \n",
    "            yield [img1,img2],label\n",
    "            \n",
    "    def preprocess(self,images):\n",
    "        images=images.reshape(images.shape[0], 28,28,1)\n",
    "        return images\n",
    "    "
   ]
  },
  {
   "cell_type": "code",
   "execution_count": 8,
   "metadata": {},
   "outputs": [],
   "source": [
    "from keras.utils import Sequence\n",
    "import math\n",
    "\n",
    "class MultipleMnistSequence(Sequence):\n",
    "    def __init__(self,images,labels,batch_size):\n",
    "        self.batch_size = batch_size\n",
    "        images=self.preprocess(images)\n",
    "        img_gen=ImageDataGenerator(rescale=1./255)\n",
    "        self.img_g1=img_gen.flow(images,labels,batch_size=batch_size)\n",
    "        self.img_g2=img_gen.flow(images,labels,batch_size=batch_size)\n",
    "        self.samples=len(images)\n",
    "        \n",
    "\n",
    "    def __getitem__(self, idx):\n",
    "        # バッチサイズ分取り出す\n",
    "        img1,label1=next(self.img_g1)\n",
    "        img2,label2=next(self.img_g2)\n",
    "        label=label1*label2         \n",
    "        return [img1, img2], label\n",
    "    \n",
    "    def __len__(self):\n",
    "        return math.ceil(self.samples / self.batch_size)\n",
    "\n",
    "    def preprocess(self, images):\n",
    "        images=images.reshape(images.shape[0], 28,28,1)\n",
    "        return images"
   ]
  },
  {
   "cell_type": "code",
   "execution_count": 9,
   "metadata": {},
   "outputs": [],
   "source": [
    "gen=MultipleMnistSequence(X_train,y_train, BATCH_SIZE)\n",
    "gen_val=MultipleMnistSequence(X_valid,y_valid, 1)"
   ]
  },
  {
   "cell_type": "code",
   "execution_count": 10,
   "metadata": {},
   "outputs": [],
   "source": [
    "from keras.layers import Input, Dense, Conv2D, Dropout, Flatten, MaxPooling2D,concatenate\n",
    "from keras.models import Model\n",
    "class DoubleCnnRegressor(KerasRegressorInterface):\n",
    "\n",
    "    def __init__(self, result_dir,input_height, input_width, input_channels, filters=64, kernel_size=(3, 3),\n",
    "                 trained_epochs=0, batch_size=1, valid_rate=None, pool_size=(2, 2), med_dim=128,\n",
    "                 dropout_rate=0.25, activation=\"relu\",\n",
    "                 loss=\"mean_squared_error\", optimizer='rmsprop'):\n",
    "        self.input_height = input_height\n",
    "        self.input_width = input_width\n",
    "        self.input_channels = input_channels\n",
    "        self.kernel_size = kernel_size\n",
    "        self.filters = filters\n",
    "        self.pool_size = pool_size\n",
    "        self.med_dim = med_dim\n",
    "        self.dropout_rate = dropout_rate\n",
    "        self.activation = activation\n",
    "        super().__init__(trained_epochs, result_dir, loss, optimizer)\n",
    "\n",
    "    def construct(self):\n",
    "        img_1 = Input(shape=(self.input_height, self.input_width, self.input_channels), name='img1')\n",
    "       \n",
    "        x = Conv2D(self.filters, self.kernel_size,activation=self.activation)(img_1)\n",
    "        x = MaxPooling2D(pool_size=self.pool_size)(x)\n",
    "        x = Dropout(self.dropout_rate)(x)\n",
    "        x = Flatten()(x)\n",
    "        med1 = Dense(self.med_dim, activation=self.activation)(x)\n",
    "        \n",
    "        img_2 = Input(shape=(self.input_height, self.input_width, self.input_channels), name='img2')\n",
    "        y = Conv2D(self.filters, self.kernel_size,activation=self.activation)(img_2)\n",
    "        y = MaxPooling2D(pool_size=self.pool_size)(y)\n",
    "        y = Dropout(self.dropout_rate)(y)\n",
    "        y = Flatten()(y)\n",
    "        med2 = Dense(self.med_dim, activation=self.activation)(y)\n",
    "\n",
    "        z = concatenate([med1, med2])\n",
    "        z = Dense(self.med_dim, activation=self.activation)(z)\n",
    "        predictions = Dense(1)(z)\n",
    "        model = Model(inputs=[img_1,img_2], outputs=predictions)\n",
    "        model.compile(optimizer=self.optimizer,loss=self.loss, metrics=self.metrics)\n",
    "        \n",
    "        return model\n",
    "\n",
    "    def create_flag(self):\n",
    "        return f\"dcr_{self.input_height}_{self.input_width}_{self.input_channels}_{self.filters}_{self.pool_size}_{self.med_dim}_{self.dropout_rate}_{self.activation}\"\n"
   ]
  },
  {
   "cell_type": "code",
   "execution_count": 11,
   "metadata": {},
   "outputs": [
    {
     "name": "stderr",
     "output_type": "stream",
     "text": [
      "INFO:root:Loading the trained model...\n",
      "INFO:root:Loaded.\n"
     ]
    }
   ],
   "source": [
    "model=DoubleCnnRegressor(RESULT_DIR,28,28,1,trained_epochs=20)"
   ]
  },
  {
   "cell_type": "code",
   "execution_count": 12,
   "metadata": {},
   "outputs": [
    {
     "name": "stderr",
     "output_type": "stream",
     "text": [
      "INFO:root:This model has already been traiend up to 20 epochs\n"
     ]
    }
   ],
   "source": [
    "model.fit_generator(gen,20,gen_val)"
   ]
  },
  {
   "cell_type": "code",
   "execution_count": 13,
   "metadata": {},
   "outputs": [
    {
     "data": {
      "image/png": "[encoded data removed]",
      "text/plain": [
       "<Figure size 432x288 with 1 Axes>"
      ]
     },
     "metadata": {
      "needs_background": "light"
     },
     "output_type": "display_data"
    }
   ],
   "source": [
    "model.plot_history(20)"
   ]
  },
  {
   "cell_type": "code",
   "execution_count": null,
   "metadata": {},
   "outputs": [],
   "source": []
  },
  {
   "cell_type": "code",
   "execution_count": null,
   "metadata": {},
   "outputs": [],
   "source": []
  },
  {
   "cell_type": "code",
   "execution_count": null,
   "metadata": {},
   "outputs": [],
   "source": []
  },
  {
   "cell_type": "code",
   "execution_count": null,
   "metadata": {},
   "outputs": [],
   "source": []
  },
  {
   "cell_type": "code",
   "execution_count": null,
   "metadata": {},
   "outputs": [],
   "source": []
  }
 ],
 "metadata": {
  "kernelspec": {
   "display_name": "Python 3",
   "language": "python",
   "name": "python3"
  },
  "language_info": {
   "codemirror_mode": {
    "name": "ipython",
    "version": 3
   },
   "file_extension": ".py",
   "mimetype": "text/x-python",
   "name": "python",
   "nbconvert_exporter": "python",
   "pygments_lexer": "ipython3",
   "version": "3.6.7"
  }
 },
 "nbformat": 4,
 "nbformat_minor": 2
}
