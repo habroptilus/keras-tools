{
 "cells": [
  {
   "cell_type": "code",
   "execution_count": 7,
   "metadata": {},
   "outputs": [],
   "source": [
    "from keras.preprocessing.image import ImageDataGenerator\n",
    "from keras.datasets import mnist\n",
    "from keras.utils import to_categorical"
   ]
  },
  {
   "cell_type": "code",
   "execution_count": 3,
   "metadata": {},
   "outputs": [],
   "source": [
    "gen=ImageDataGenerator(validation_split=0.3)"
   ]
  },
  {
   "cell_type": "code",
   "execution_count": null,
   "metadata": {},
   "outputs": [],
   "source": [
    "def reshape_mnist_cnn(x,y):\n",
    "    sample_num=x.shape[0]\n",
    "    \n",
    "    x= x.astype('float32')\n",
    "    x /= 255\n",
    "    \n",
    "    return x,y"
   ]
  },
  {
   "cell_type": "code",
   "execution_count": 8,
   "metadata": {},
   "outputs": [],
   "source": [
    "(x_train, y_train), (x_test, y_test) = mnist.load_data()\n",
    "x_train=x_train.reshape(-1, 28,28,1)\n",
    "x_test=x_test.reshape(-1, 28,28,1)\n",
    "y_train = to_categorical(y_train, 10)\n",
    "y_test = to_categorical(y_test, 10)"
   ]
  },
  {
   "cell_type": "code",
   "execution_count": 13,
   "metadata": {},
   "outputs": [],
   "source": [
    "g=gen.flow(x_train,y_train)"
   ]
  },
  {
   "cell_type": "code",
   "execution_count": 14,
   "metadata": {},
   "outputs": [
    {
     "data": {
      "text/plain": [
       "<keras_preprocessing.image.NumpyArrayIterator at 0x7f0350416c18>"
      ]
     },
     "execution_count": 14,
     "metadata": {},
     "output_type": "execute_result"
    }
   ],
   "source": [
    "g"
   ]
  },
  {
   "cell_type": "code",
   "execution_count": 17,
   "metadata": {},
   "outputs": [
    {
     "data": {
      "text/plain": [
       "((32, 28, 28, 1), (32, 10))"
      ]
     },
     "execution_count": 17,
     "metadata": {},
     "output_type": "execute_result"
    }
   ],
   "source": [
    "x,y=g.next()\n",
    "x.shape,y.shape"
   ]
  },
  {
   "cell_type": "code",
   "execution_count": null,
   "metadata": {},
   "outputs": [],
   "source": [
    "inputs = Input(input_shape)\n",
    "kernel_size = (3, 3)\n",
    "max_pool_size = (2, 2)\n",
    "cnn = Conv2D(64, kernel_size, padding='same', activation='relu')(inputs)\n",
    "cnn = Dropout(0.1)(cnn)\n",
    "cnn = Conv2D(64, kernel_size, padding='same', activation='relu')(cnn)\n",
    "cnn = Dropout(0.1)(cnn)\n",
    "cnn = Conv2D(64, kernel_size, padding='same', activation='relu')(cnn)\n",
    "cnn = Dropout(0.1)(cnn)\n",
    "cnn = MaxPooling2D(pool_size=max_pool_size, strides=(2, 2))(cnn)\n",
    "\n",
    "cnn = Conv2D(64, kernel_size, padding='same', activation='relu')(cnn)\n",
    "cnn = Dropout(0.1)(cnn)\n",
    "cnn = Conv2D(64, kernel_size, padding='same', activation='relu')(cnn)\n",
    "cnn = Dropout(0.1)(cnn)\n",
    "cnn = Conv2D(64, kernel_size, padding='same', activation='relu')(cnn)\n",
    "cnn = MaxPooling2D(pool_size=max_pool_size, strides=(2, 2))(cnn)\n",
    "\n",
    "fc = Flatten()(cnn)\n",
    "fc = Dense(1024, activation='relu')(fc)\n",
    "predictions = Dense(class_num, activation='softmax')(fc)\n",
    "model = Model(input=inputs, output=predictions)\n"
   ]
  },
  {
   "cell_type": "code",
   "execution_count": null,
   "metadata": {},
   "outputs": [],
   "source": []
  },
  {
   "cell_type": "code",
   "execution_count": null,
   "metadata": {},
   "outputs": [],
   "source": []
  }
 ],
 "metadata": {
  "kernelspec": {
   "display_name": "Python 3",
   "language": "python",
   "name": "python3"
  },
  "language_info": {
   "codemirror_mode": {
    "name": "ipython",
    "version": 3
   },
   "file_extension": ".py",
   "mimetype": "text/x-python",
   "name": "python",
   "nbconvert_exporter": "python",
   "pygments_lexer": "ipython3",
   "version": "3.6.5"
  }
 },
 "nbformat": 4,
 "nbformat_minor": 2
}
