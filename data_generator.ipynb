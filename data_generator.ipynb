{
 "cells": [
  {
   "cell_type": "code",
   "execution_count": 1,
   "metadata": {},
   "outputs": [
    {
     "name": "stderr",
     "output_type": "stream",
     "text": [
      "/home/ogura/anaconda3/lib/python3.6/site-packages/h5py/__init__.py:36: FutureWarning: Conversion of the second argument of issubdtype from `float` to `np.floating` is deprecated. In future, it will be treated as `np.float64 == np.dtype(float).type`.\n",
      "  from ._conv import register_converters as _register_converters\n",
      "Using TensorFlow backend.\n"
     ]
    }
   ],
   "source": [
    "from keras.preprocessing.image import ImageDataGenerator\n",
    "from keras.datasets import mnist\n",
    "from keras.utils import to_categorical"
   ]
  },
  {
   "cell_type": "code",
   "execution_count": 83,
   "metadata": {},
   "outputs": [
    {
     "name": "stderr",
     "output_type": "stream",
     "text": [
      "/home/ogura/anaconda3/lib/python3.6/site-packages/sklearn/model_selection/_split.py:2026: FutureWarning: From version 0.21, test_size will always complement train_size unless both are specified.\n",
      "  FutureWarning)\n"
     ]
    }
   ],
   "source": [
    "from sklearn.model_selection import train_test_split\n",
    "(x_train_valid, y_train_valid), (x_test, y_test) = mnist.load_data()\n",
    "x_train_valid=x_train_valid.reshape(-1, 28,28,1)\n",
    "X_test=x_test.reshape(-1, 28,28,1)\n",
    "y_train_valid = to_categorical(y_train_valid, 10)\n",
    "y_test = to_categorical(y_test, 10)\n",
    "X_train, X_valid, y_train, y_valid = train_test_split(x_train_valid, y_train_valid,train_size=0.8)"
   ]
  },
  {
   "cell_type": "code",
   "execution_count": 84,
   "metadata": {},
   "outputs": [],
   "source": [
    "seed=1\n",
    "batchsize=100"
   ]
  },
  {
   "cell_type": "code",
   "execution_count": 85,
   "metadata": {},
   "outputs": [],
   "source": [
    "train_gen=ImageDataGenerator(rescale=1./255)\n",
    "valid_gen=ImageDataGenerator(rescale=1./255)\n",
    "test_gen=ImageDataGenerator(rescale=1./255)"
   ]
  },
  {
   "cell_type": "code",
   "execution_count": 86,
   "metadata": {},
   "outputs": [],
   "source": [
    "g_train=train_gen.flow(X_train,y_train,seed=seed,batch_size=batchsize)\n",
    "g_valid=valid_gen.flow(X_valid,y_valid,seed=seed)\n",
    "g_test=test_gen.flow(X_test,y_test,seed=seed)"
   ]
  },
  {
   "cell_type": "code",
   "execution_count": 87,
   "metadata": {},
   "outputs": [],
   "source": [
    "from keras.layers import Input,Conv2D,Dropout,MaxPooling2D,Flatten,Dense\n",
    "from keras.models import Model\n",
    "\n",
    "def get_cnn():\n",
    "    inputs = Input((28,28,1))\n",
    "    kernel_size = (3, 3)\n",
    "    max_pool_size = (2, 2)\n",
    "    cnn = Conv2D(64, kernel_size, padding='same', activation='relu')(inputs)\n",
    "    cnn = Dropout(0.1)(cnn)\n",
    "    cnn = Conv2D(64, kernel_size, padding='same', activation='relu')(cnn)\n",
    "    cnn = Dropout(0.1)(cnn)\n",
    "    cnn = Conv2D(64, kernel_size, padding='same', activation='relu')(cnn)\n",
    "    cnn = Dropout(0.1)(cnn)\n",
    "    cnn = MaxPooling2D(pool_size=max_pool_size, strides=(2, 2))(cnn)\n",
    "\n",
    "    cnn = Conv2D(64, kernel_size, padding='same', activation='relu')(cnn)\n",
    "    cnn = Dropout(0.1)(cnn)\n",
    "    cnn = Conv2D(64, kernel_size, padding='same', activation='relu')(cnn)\n",
    "    cnn = Dropout(0.1)(cnn)\n",
    "    cnn = Conv2D(64, kernel_size, padding='same', activation='relu')(cnn)\n",
    "    cnn = MaxPooling2D(pool_size=max_pool_size, strides=(2, 2))(cnn)\n",
    "\n",
    "    fc = Flatten()(cnn)\n",
    "    fc = Dense(1024, activation='relu')(fc)\n",
    "    predictions = Dense(10, activation='softmax')(fc)\n",
    "    model = Model(inputs=inputs, outputs=predictions)\n",
    "\n",
    "    model.compile(loss='categorical_crossentropy',optimizer=\"adam\",metrics=['accuracy'])\n",
    "    return model\n"
   ]
  },
  {
   "cell_type": "code",
   "execution_count": 88,
   "metadata": {},
   "outputs": [
    {
     "name": "stdout",
     "output_type": "stream",
     "text": [
      "Epoch 1/3\n",
      "480/480 [==============================] - 12s 25ms/step - loss: 0.1483 - acc: 0.9525 - val_loss: 0.0423 - val_acc: 0.9862\n",
      "Epoch 2/3\n",
      "480/480 [==============================] - 10s 21ms/step - loss: 0.0464 - acc: 0.9859 - val_loss: 0.0420 - val_acc: 0.9868\n",
      "Epoch 3/3\n",
      "480/480 [==============================] - 10s 21ms/step - loss: 0.0347 - acc: 0.9895 - val_loss: 0.0209 - val_acc: 0.9929\n"
     ]
    }
   ],
   "source": [
    "model=get_cnn()\n",
    "history=model.fit_generator(g,epochs=3,steps_per_epoch=len(g_train),validation_data=g_valid,validation_steps=len(g_valid))"
   ]
  },
  {
   "cell_type": "code",
   "execution_count": 90,
   "metadata": {},
   "outputs": [
    {
     "name": "stdout",
     "output_type": "stream",
     "text": [
      "Train on 48000 samples, validate on 12000 samples\n",
      "Epoch 1/3\n",
      "48000/48000 [==============================] - 12s 247us/step - loss: 0.6164 - acc: 0.8174 - val_loss: 0.0937 - val_acc: 0.9708\n",
      "Epoch 2/3\n",
      "48000/48000 [==============================] - 10s 198us/step - loss: 0.0628 - acc: 0.9806 - val_loss: 0.0369 - val_acc: 0.9882\n",
      "Epoch 3/3\n",
      "48000/48000 [==============================] - 10s 199us/step - loss: 0.0438 - acc: 0.9867 - val_loss: 0.0450 - val_acc: 0.9858\n"
     ]
    }
   ],
   "source": [
    "model=get_cnn()\n",
    "history=model.fit(X_train,y_train,epochs=3,batch_size=batchsize,validation_data=(X_valid,y_valid))"
   ]
  },
  {
   "cell_type": "code",
   "execution_count": null,
   "metadata": {},
   "outputs": [],
   "source": []
  }
 ],
 "metadata": {
  "kernelspec": {
   "display_name": "Python 3",
   "language": "python",
   "name": "python3"
  },
  "language_info": {
   "codemirror_mode": {
    "name": "ipython",
    "version": 3
   },
   "file_extension": ".py",
   "mimetype": "text/x-python",
   "name": "python",
   "nbconvert_exporter": "python",
   "pygments_lexer": "ipython3",
   "version": "3.6.5"
  }
 },
 "nbformat": 4,
 "nbformat_minor": 2
}
