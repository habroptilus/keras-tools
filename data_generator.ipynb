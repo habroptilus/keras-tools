{
 "cells": [
  {
   "cell_type": "code",
   "execution_count": 6,
   "metadata": {},
   "outputs": [],
   "source": [
    "from keras.preprocessing.image import ImageDataGenerator\n",
    "from keras.datasets import mnist\n",
    "from keras.utils import to_categorical"
   ]
  },
  {
   "cell_type": "code",
   "execution_count": 7,
   "metadata": {},
   "outputs": [],
   "source": [
    "valid_rate=0.3\n",
    "batchsize=100"
   ]
  },
  {
   "cell_type": "code",
   "execution_count": 8,
   "metadata": {},
   "outputs": [],
   "source": [
    "from sklearn.model_selection import train_test_split\n",
    "(x_train_valid, y_train_valid), (x_test, y_test) = mnist.load_data()\n",
    "x_train_valid=x_train_valid.reshape(-1, 28,28,1)\n",
    "X_test=x_test.reshape(-1, 28,28,1)\n",
    "y_train_valid = to_categorical(y_train_valid, 10)\n",
    "y_test = to_categorical(y_test, 10)\n",
    "X_train, X_valid, y_train, y_valid = train_test_split(x_train_valid, y_train_valid,test_size=valid_rate)"
   ]
  },
  {
   "cell_type": "code",
   "execution_count": 9,
   "metadata": {},
   "outputs": [],
   "source": [
    "train_generator=ImageDataGenerator(rescale=1./255,horizontal_flip=True)\n",
    "test_generator=ImageDataGenerator(rescale=1./255)"
   ]
  },
  {
   "cell_type": "code",
   "execution_count": 10,
   "metadata": {},
   "outputs": [],
   "source": [
    "g_train=train_generator.flow(X_train,y_train,batch_size=batchsize)\n",
    "g_valid=test_generator.flow(X_valid,y_valid)\n",
    "g_test=test_generator.flow(X_test,y_test)"
   ]
  },
  {
   "cell_type": "code",
   "execution_count": 11,
   "metadata": {},
   "outputs": [],
   "source": [
    "from keras.layers import Input,Conv2D,Dropout,MaxPooling2D,Flatten,Dense\n",
    "from keras.models import Model\n",
    "\n",
    "def get_cnn():\n",
    "    inputs = Input((28,28,1))\n",
    "    kernel_size = (3, 3)\n",
    "    max_pool_size = (2, 2)\n",
    "    cnn = Conv2D(64, kernel_size, padding='same', activation='relu')(inputs)\n",
    "    cnn = Dropout(0.1)(cnn)\n",
    "    cnn = Conv2D(64, kernel_size, padding='same', activation='relu')(cnn)\n",
    "    cnn = Dropout(0.1)(cnn)\n",
    "    cnn = Conv2D(64, kernel_size, padding='same', activation='relu')(cnn)\n",
    "    cnn = Dropout(0.1)(cnn)\n",
    "    cnn = MaxPooling2D(pool_size=max_pool_size, strides=(2, 2))(cnn)\n",
    "\n",
    "    cnn = Conv2D(64, kernel_size, padding='same', activation='relu')(cnn)\n",
    "    cnn = Dropout(0.1)(cnn)\n",
    "    cnn = Conv2D(64, kernel_size, padding='same', activation='relu')(cnn)\n",
    "    cnn = Dropout(0.1)(cnn)\n",
    "    cnn = Conv2D(64, kernel_size, padding='same', activation='relu')(cnn)\n",
    "    cnn = MaxPooling2D(pool_size=max_pool_size, strides=(2, 2))(cnn)\n",
    "\n",
    "    fc = Flatten()(cnn)\n",
    "    fc = Dense(1024, activation='relu')(fc)\n",
    "    predictions = Dense(10, activation='softmax')(fc)\n",
    "    model = Model(inputs=inputs, outputs=predictions)\n",
    "\n",
    "    model.compile(loss='categorical_crossentropy',optimizer=\"adam\",metrics=['accuracy'])\n",
    "    return model"
   ]
  },
  {
   "cell_type": "code",
   "execution_count": null,
   "metadata": {},
   "outputs": [
    {
     "name": "stdout",
     "output_type": "stream",
     "text": [
      "Epoch 1/3\n"
     ]
    }
   ],
   "source": [
    "model=get_cnn()\n",
    "history=model.fit_generator(g_train,epochs=3,steps_per_epoch=len(g_train),validation_data=g_valid,validation_steps=len(g_valid))"
   ]
  },
  {
   "cell_type": "code",
   "execution_count": null,
   "metadata": {},
   "outputs": [],
   "source": [
    "model.predict_generator(g_test)"
   ]
  },
  {
   "cell_type": "code",
   "execution_count": null,
   "metadata": {},
   "outputs": [],
   "source": []
  },
  {
   "cell_type": "code",
   "execution_count": null,
   "metadata": {},
   "outputs": [],
   "source": []
  },
  {
   "cell_type": "code",
   "execution_count": null,
   "metadata": {},
   "outputs": [],
   "source": []
  }
 ],
 "metadata": {
  "kernelspec": {
   "display_name": "Python 3",
   "language": "python",
   "name": "python3"
  },
  "language_info": {
   "codemirror_mode": {
    "name": "ipython",
    "version": 3
   },
   "file_extension": ".py",
   "mimetype": "text/x-python",
   "name": "python",
   "nbconvert_exporter": "python",
   "pygments_lexer": "ipython3",
   "version": "3.6.7"
  }
 },
 "nbformat": 4,
 "nbformat_minor": 2
}
