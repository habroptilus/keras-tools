{
 "cells": [
  {
   "cell_type": "code",
   "execution_count": 1,
   "metadata": {},
   "outputs": [
    {
     "name": "stderr",
     "output_type": "stream",
     "text": [
      "Using TensorFlow backend.\n"
     ]
    }
   ],
   "source": [
    "import logging as lg\n",
    "from pathlib import Path\n",
    "from keras.utils import to_categorical\n",
    "from keras.datasets import boston_housing\n",
    "import numpy as np\n",
    "%matplotlib inline"
   ]
  },
  {
   "cell_type": "code",
   "execution_count": 12,
   "metadata": {},
   "outputs": [],
   "source": [
    "INPUT_DIM=13\n",
    "VALID_RATE=0.2\n",
    "BATCH_SIZE=20\n",
    "RESULT_DIR=Path(f\"result/boston_{BATCH_SIZE}_{VALID_RATE}\")"
   ]
  },
  {
   "cell_type": "code",
   "execution_count": 3,
   "metadata": {},
   "outputs": [],
   "source": [
    "from tools.models import MLPRegressor"
   ]
  },
  {
   "cell_type": "code",
   "execution_count": 4,
   "metadata": {},
   "outputs": [
    {
     "name": "stderr",
     "output_type": "stream",
     "text": [
      "INFO:root:Verbose mode activated\n"
     ]
    }
   ],
   "source": [
    "verbose=True\n",
    "RESULT_DIR=Path(\"result\")\n",
    "if verbose:\n",
    "    lg.getLogger().setLevel(lg.INFO)\n",
    "    lg.info(\"Verbose mode activated\")"
   ]
  },
  {
   "cell_type": "code",
   "execution_count": 5,
   "metadata": {},
   "outputs": [],
   "source": [
    "(X_train_val, y_train_val), (X_test, y_test) = boston_housing.load_data()"
   ]
  },
  {
   "cell_type": "code",
   "execution_count": 6,
   "metadata": {},
   "outputs": [
    {
     "data": {
      "text/plain": [
       "((404, 13), (404,), (102, 13), (102,))"
      ]
     },
     "execution_count": 6,
     "metadata": {},
     "output_type": "execute_result"
    }
   ],
   "source": [
    "X_train_val.shape,y_train_val.shape,X_test.shape,y_test.shape"
   ]
  },
  {
   "cell_type": "code",
   "execution_count": 7,
   "metadata": {},
   "outputs": [],
   "source": [
    "from sklearn.model_selection import train_test_split\n",
    "X_train,X_valid,y_train,y_valid=train_test_split(X_train_val, y_train_val, test_size=VALID_RATE)"
   ]
  },
  {
   "cell_type": "code",
   "execution_count": 14,
   "metadata": {},
   "outputs": [
    {
     "name": "stderr",
     "output_type": "stream",
     "text": [
      "INFO:root:Not found such a trained model.\n",
      "INFO:root:Creating new model...\n",
      "INFO:root:Finished.\n"
     ]
    }
   ],
   "source": [
    "mlp=MLPRegressor(result_dir=RESULT_DIR,input_dim=INPUT_DIM)"
   ]
  },
  {
   "cell_type": "code",
   "execution_count": 15,
   "metadata": {},
   "outputs": [
    {
     "name": "stdout",
     "output_type": "stream",
     "text": [
      "Train on 323 samples, validate on 81 samples\n",
      "Epoch 1/10\n",
      "323/323 [==============================] - 0s 929us/step - loss: 632.5976 - val_loss: 231.0542\n",
      "Epoch 2/10\n",
      "323/323 [==============================] - 0s 144us/step - loss: 142.0995 - val_loss: 68.9616\n",
      "Epoch 3/10\n",
      "323/323 [==============================] - 0s 146us/step - loss: 79.3851 - val_loss: 76.7132\n",
      "Epoch 4/10\n",
      "323/323 [==============================] - 0s 146us/step - loss: 60.4372 - val_loss: 77.2457\n",
      "Epoch 5/10\n",
      "323/323 [==============================] - 0s 149us/step - loss: 59.2866 - val_loss: 87.0512\n",
      "Epoch 6/10\n",
      "323/323 [==============================] - 0s 146us/step - loss: 63.7763 - val_loss: 58.6577\n",
      "Epoch 7/10\n",
      "323/323 [==============================] - 0s 145us/step - loss: 50.6181 - val_loss: 54.5970\n",
      "Epoch 8/10\n",
      "323/323 [==============================] - 0s 145us/step - loss: 52.1371 - val_loss: 64.7566\n",
      "Epoch 9/10\n",
      "323/323 [==============================] - 0s 144us/step - loss: 54.0162 - val_loss: 50.2762\n",
      "Epoch 10/10\n",
      "323/323 [==============================] - 0s 144us/step - loss: 50.2124 - val_loss: 54.2824\n"
     ]
    }
   ],
   "source": [
    "history=mlp.fit(X_train,y_train,10,BATCH_SIZE,X_valid,y_valid)"
   ]
  },
  {
   "cell_type": "code",
   "execution_count": 16,
   "metadata": {},
   "outputs": [
    {
     "data": {
      "image/png": "[encoded data removed]",
      "text/plain": [
       "<Figure size 432x288 with 1 Axes>"
      ]
     },
     "metadata": {
      "needs_background": "light"
     },
     "output_type": "display_data"
    }
   ],
   "source": [
    "mlp.plot_history(epoch=10)"
   ]
  },
  {
   "cell_type": "code",
   "execution_count": 17,
   "metadata": {},
   "outputs": [
    {
     "name": "stderr",
     "output_type": "stream",
     "text": [
      "INFO:root:Loading the trained model...\n",
      "INFO:root:Loaded.\n"
     ]
    },
    {
     "name": "stdout",
     "output_type": "stream",
     "text": [
      "102/102 [==============================] - 0s 612us/step\n"
     ]
    },
    {
     "data": {
      "text/plain": [
       "{'loss': 56.55920888863358}"
      ]
     },
     "execution_count": 17,
     "metadata": {},
     "output_type": "execute_result"
    }
   ],
   "source": [
    "mlp=MLPRegressor(result_dir=RESULT_DIR,input_dim=INPUT_DIM,trained_epochs=10)\n",
    "mlp.evaluate(X_test,y_test)"
   ]
  },
  {
   "cell_type": "code",
   "execution_count": null,
   "metadata": {},
   "outputs": [],
   "source": []
  },
  {
   "cell_type": "code",
   "execution_count": null,
   "metadata": {},
   "outputs": [],
   "source": []
  },
  {
   "cell_type": "code",
   "execution_count": null,
   "metadata": {},
   "outputs": [],
   "source": []
  },
  {
   "cell_type": "code",
   "execution_count": null,
   "metadata": {},
   "outputs": [],
   "source": []
  },
  {
   "cell_type": "code",
   "execution_count": null,
   "metadata": {},
   "outputs": [],
   "source": []
  },
  {
   "cell_type": "code",
   "execution_count": null,
   "metadata": {},
   "outputs": [],
   "source": []
  },
  {
   "cell_type": "code",
   "execution_count": null,
   "metadata": {},
   "outputs": [],
   "source": []
  },
  {
   "cell_type": "code",
   "execution_count": null,
   "metadata": {},
   "outputs": [],
   "source": []
  }
 ],
 "metadata": {
  "kernelspec": {
   "display_name": "Python 3",
   "language": "python",
   "name": "python3"
  },
  "language_info": {
   "codemirror_mode": {
    "name": "ipython",
    "version": 3
   },
   "file_extension": ".py",
   "mimetype": "text/x-python",
   "name": "python",
   "nbconvert_exporter": "python",
   "pygments_lexer": "ipython3",
   "version": "3.6.7"
  }
 },
 "nbformat": 4,
 "nbformat_minor": 2
}
